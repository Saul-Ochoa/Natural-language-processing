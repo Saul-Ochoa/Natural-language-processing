{
  "nbformat": 4,
  "nbformat_minor": 0,
  "metadata": {
    "colab": {
      "provenance": [],
      "mount_file_id": "1zcCP_YdyWN0-xydfHKFtjO5YYk2P2yuY",
      "authorship_tag": "ABX9TyOM7x07NcbjFU5TsoY5v15Y",
      "include_colab_link": true
    },
    "kernelspec": {
      "name": "python3",
      "display_name": "Python 3"
    },
    "language_info": {
      "name": "python"
    }
  },
  "cells": [
    {
      "cell_type": "markdown",
      "metadata": {
        "id": "view-in-github",
        "colab_type": "text"
      },
      "source": [
        "<a href=\"https://colab.research.google.com/github/Saul-Ochoa/Natural-language-processing/blob/main/Natural%20Language%20Processing%20with%20Disaster%20Tweets/Natural_languajes_procesing.ipynb\" target=\"_parent\"><img src=\"https://colab.research.google.com/assets/colab-badge.svg\" alt=\"Open In Colab\"/></a>"
      ]
    },
    {
      "cell_type": "markdown",
      "source": [
        "# **Natural languajes procesing**"
      ],
      "metadata": {
        "id": "dmJEIBO0NJst"
      }
    },
    {
      "cell_type": "code",
      "source": [
        "pip install pyspellchecker"
      ],
      "metadata": {
        "colab": {
          "base_uri": "https://localhost:8080/"
        },
        "id": "GFoymgyFSiP6",
        "outputId": "98395b3c-0453-4b0f-900f-b6134acf8520"
      },
      "execution_count": 2,
      "outputs": [
        {
          "output_type": "stream",
          "name": "stdout",
          "text": [
            "Collecting pyspellchecker\n",
            "  Downloading pyspellchecker-0.8.1-py3-none-any.whl.metadata (9.4 kB)\n",
            "Downloading pyspellchecker-0.8.1-py3-none-any.whl (6.8 MB)\n",
            "\u001b[2K   \u001b[90m━━━━━━━━━━━━━━━━━━━━━━━━━━━━━━━━━━━━━━━━\u001b[0m \u001b[32m6.8/6.8 MB\u001b[0m \u001b[31m42.9 MB/s\u001b[0m eta \u001b[36m0:00:00\u001b[0m\n",
            "\u001b[?25hInstalling collected packages: pyspellchecker\n",
            "Successfully installed pyspellchecker-0.8.1\n"
          ]
        }
      ]
    },
    {
      "cell_type": "code",
      "execution_count": 3,
      "metadata": {
        "id": "HY8S9tL_LM3A"
      },
      "outputs": [],
      "source": [
        "import nltk\n",
        "import pandas as pd\n",
        "import numpy as np\n",
        "import re\n",
        "import string\n",
        "import matplotlib.pyplot as plt\n",
        "import seaborn as sns\n",
        "from collections import defaultdict\n",
        "from spellchecker import SpellChecker\n",
        "from nltk.tokenize import word_tokenize\n",
        "from nltk.corpus import stopwords\n",
        "from nltk.stem import SnowballStemmer\n",
        "from keras.models import Sequential\n",
        "from keras.layers import Embedding,LSTM,Dense,SpatialDropout1D\n",
        "from tensorflow.keras.preprocessing.text import Tokenizer\n",
        "from tensorflow.keras.preprocessing.sequence import pad_sequences\n",
        "from keras.initializers import Constant\n",
        "from sklearn.model_selection import train_test_split\n",
        "from keras.optimizers import Adam\n",
        "from keras.utils import plot_model\n",
        "import warnings\n",
        "warnings.filterwarnings('ignore')"
      ]
    },
    {
      "cell_type": "code",
      "source": [
        "nltk.download('wordnet')\n",
        "nltk.download('punkt')\n",
        "nltk.download('stopwords')"
      ],
      "metadata": {
        "colab": {
          "base_uri": "https://localhost:8080/"
        },
        "id": "zAW7CdTGcczu",
        "outputId": "0d1db9f2-fa22-4b7a-e5e9-cef0b96c10fb"
      },
      "execution_count": 4,
      "outputs": [
        {
          "output_type": "stream",
          "name": "stderr",
          "text": [
            "[nltk_data] Downloading package wordnet to /root/nltk_data...\n",
            "[nltk_data] Downloading package punkt to /root/nltk_data...\n",
            "[nltk_data]   Unzipping tokenizers/punkt.zip.\n",
            "[nltk_data] Downloading package stopwords to /root/nltk_data...\n",
            "[nltk_data]   Unzipping corpora/stopwords.zip.\n"
          ]
        },
        {
          "output_type": "execute_result",
          "data": {
            "text/plain": [
              "True"
            ]
          },
          "metadata": {},
          "execution_count": 4
        }
      ]
    },
    {
      "cell_type": "code",
      "source": [
        "# stop words\n",
        "stop_words=stopwords.words('spanish')\n",
        "print(stop_words)"
      ],
      "metadata": {
        "colab": {
          "base_uri": "https://localhost:8080/"
        },
        "id": "UPZaF5JUMTb7",
        "outputId": "2c2852a8-7e60-4c8a-f7b9-9175713bc627"
      },
      "execution_count": 5,
      "outputs": [
        {
          "output_type": "stream",
          "name": "stdout",
          "text": [
            "['de', 'la', 'que', 'el', 'en', 'y', 'a', 'los', 'del', 'se', 'las', 'por', 'un', 'para', 'con', 'no', 'una', 'su', 'al', 'lo', 'como', 'más', 'pero', 'sus', 'le', 'ya', 'o', 'este', 'sí', 'porque', 'esta', 'entre', 'cuando', 'muy', 'sin', 'sobre', 'también', 'me', 'hasta', 'hay', 'donde', 'quien', 'desde', 'todo', 'nos', 'durante', 'todos', 'uno', 'les', 'ni', 'contra', 'otros', 'ese', 'eso', 'ante', 'ellos', 'e', 'esto', 'mí', 'antes', 'algunos', 'qué', 'unos', 'yo', 'otro', 'otras', 'otra', 'él', 'tanto', 'esa', 'estos', 'mucho', 'quienes', 'nada', 'muchos', 'cual', 'poco', 'ella', 'estar', 'estas', 'algunas', 'algo', 'nosotros', 'mi', 'mis', 'tú', 'te', 'ti', 'tu', 'tus', 'ellas', 'nosotras', 'vosotros', 'vosotras', 'os', 'mío', 'mía', 'míos', 'mías', 'tuyo', 'tuya', 'tuyos', 'tuyas', 'suyo', 'suya', 'suyos', 'suyas', 'nuestro', 'nuestra', 'nuestros', 'nuestras', 'vuestro', 'vuestra', 'vuestros', 'vuestras', 'esos', 'esas', 'estoy', 'estás', 'está', 'estamos', 'estáis', 'están', 'esté', 'estés', 'estemos', 'estéis', 'estén', 'estaré', 'estarás', 'estará', 'estaremos', 'estaréis', 'estarán', 'estaría', 'estarías', 'estaríamos', 'estaríais', 'estarían', 'estaba', 'estabas', 'estábamos', 'estabais', 'estaban', 'estuve', 'estuviste', 'estuvo', 'estuvimos', 'estuvisteis', 'estuvieron', 'estuviera', 'estuvieras', 'estuviéramos', 'estuvierais', 'estuvieran', 'estuviese', 'estuvieses', 'estuviésemos', 'estuvieseis', 'estuviesen', 'estando', 'estado', 'estada', 'estados', 'estadas', 'estad', 'he', 'has', 'ha', 'hemos', 'habéis', 'han', 'haya', 'hayas', 'hayamos', 'hayáis', 'hayan', 'habré', 'habrás', 'habrá', 'habremos', 'habréis', 'habrán', 'habría', 'habrías', 'habríamos', 'habríais', 'habrían', 'había', 'habías', 'habíamos', 'habíais', 'habían', 'hube', 'hubiste', 'hubo', 'hubimos', 'hubisteis', 'hubieron', 'hubiera', 'hubieras', 'hubiéramos', 'hubierais', 'hubieran', 'hubiese', 'hubieses', 'hubiésemos', 'hubieseis', 'hubiesen', 'habiendo', 'habido', 'habida', 'habidos', 'habidas', 'soy', 'eres', 'es', 'somos', 'sois', 'son', 'sea', 'seas', 'seamos', 'seáis', 'sean', 'seré', 'serás', 'será', 'seremos', 'seréis', 'serán', 'sería', 'serías', 'seríamos', 'seríais', 'serían', 'era', 'eras', 'éramos', 'erais', 'eran', 'fui', 'fuiste', 'fue', 'fuimos', 'fuisteis', 'fueron', 'fuera', 'fueras', 'fuéramos', 'fuerais', 'fueran', 'fuese', 'fueses', 'fuésemos', 'fueseis', 'fuesen', 'sintiendo', 'sentido', 'sentida', 'sentidos', 'sentidas', 'siente', 'sentid', 'tengo', 'tienes', 'tiene', 'tenemos', 'tenéis', 'tienen', 'tenga', 'tengas', 'tengamos', 'tengáis', 'tengan', 'tendré', 'tendrás', 'tendrá', 'tendremos', 'tendréis', 'tendrán', 'tendría', 'tendrías', 'tendríamos', 'tendríais', 'tendrían', 'tenía', 'tenías', 'teníamos', 'teníais', 'tenían', 'tuve', 'tuviste', 'tuvo', 'tuvimos', 'tuvisteis', 'tuvieron', 'tuviera', 'tuvieras', 'tuviéramos', 'tuvierais', 'tuvieran', 'tuviese', 'tuvieses', 'tuviésemos', 'tuvieseis', 'tuviesen', 'teniendo', 'tenido', 'tenida', 'tenidos', 'tenidas', 'tened']\n"
          ]
        }
      ]
    },
    {
      "cell_type": "code",
      "source": [
        "texto='Hola ¿Como estas?, si todo bien que te pasa  mongolo'\n",
        "texto=texto.lower()\n",
        "tokens=word_tokenize(texto)\n",
        "print(tokens)\n",
        "print(f'Numero de tokens: {len(tokens)}')"
      ],
      "metadata": {
        "colab": {
          "base_uri": "https://localhost:8080/"
        },
        "id": "KSnW5UeRLhUt",
        "outputId": "a096442b-99a3-4ed7-dc75-27350c0fa762"
      },
      "execution_count": 6,
      "outputs": [
        {
          "output_type": "stream",
          "name": "stdout",
          "text": [
            "['hola', '¿como', 'estas', '?', ',', 'si', 'todo', 'bien', 'que', 'te', 'pasa', 'mongolo']\n",
            "Numero de tokens: 12\n"
          ]
        }
      ]
    },
    {
      "cell_type": "code",
      "source": [
        "# Tokenizar el texto\n",
        "tokens = word_tokenize(texto)\n",
        "\n",
        "# Eliminar las stopwords\n",
        "tokens_filtrados = [word for word in tokens if word.lower() not in stop_words]\n",
        "\n",
        "print(\"Tokens originales:\", tokens)\n",
        "print(f'Numero de tokens: {len(tokens)}')\n",
        "print(\"Tokens filtrados:\", tokens_filtrados)\n",
        "print(\"Número de tokens filtrados\", len(tokens_filtrados))"
      ],
      "metadata": {
        "colab": {
          "base_uri": "https://localhost:8080/"
        },
        "id": "WbZ7ftFCMXBR",
        "outputId": "0a7b15e1-511d-4bda-f24a-a399d1f588fe"
      },
      "execution_count": 7,
      "outputs": [
        {
          "output_type": "stream",
          "name": "stdout",
          "text": [
            "Tokens originales: ['hola', '¿como', 'estas', '?', ',', 'si', 'todo', 'bien', 'que', 'te', 'pasa', 'mongolo']\n",
            "Numero de tokens: 12\n",
            "Tokens filtrados: ['hola', '¿como', '?', ',', 'si', 'bien', 'pasa', 'mongolo']\n",
            "Número de tokens filtrados 8\n"
          ]
        }
      ]
    },
    {
      "cell_type": "code",
      "source": [
        "stemmer=SnowballStemmer('spanish')\n",
        "# palabras de ejemplo\n",
        "palabras=[\"corriendo\", \"corrió\", \"corren\", \"corre\"]\n",
        "# Aplicar el stemming a cada palabra\n",
        "stems = [stemmer.stem(palabra) for palabra in palabras]\n",
        "print(stems)"
      ],
      "metadata": {
        "colab": {
          "base_uri": "https://localhost:8080/"
        },
        "id": "Z16vlolRNOD7",
        "outputId": "a3d35f3c-fb0f-47af-e869-c114b06e329c"
      },
      "execution_count": 8,
      "outputs": [
        {
          "output_type": "stream",
          "name": "stdout",
          "text": [
            "['corr', 'corr', 'corr', 'corr']\n"
          ]
        }
      ]
    },
    {
      "cell_type": "code",
      "source": [
        "pip install spacy -q"
      ],
      "metadata": {
        "id": "H0xBcZ90UGAL"
      },
      "execution_count": 9,
      "outputs": []
    },
    {
      "cell_type": "code",
      "source": [
        "!python -m spacy download es_core_news_sm -q"
      ],
      "metadata": {
        "colab": {
          "base_uri": "https://localhost:8080/"
        },
        "id": "MguZayqjUXhN",
        "outputId": "37fddafb-fd29-48c9-f2bb-0d2d0a343ba4"
      },
      "execution_count": 10,
      "outputs": [
        {
          "output_type": "stream",
          "name": "stdout",
          "text": [
            "\u001b[2K     \u001b[90m━━━━━━━━━━━━━━━━━━━━━━━━━━━━━━━━━━━━━━━━\u001b[0m \u001b[32m12.9/12.9 MB\u001b[0m \u001b[31m24.2 MB/s\u001b[0m eta \u001b[36m0:00:00\u001b[0m\n",
            "\u001b[?25h\u001b[38;5;2m✔ Download and installation successful\u001b[0m\n",
            "You can now load the package via spacy.load('es_core_news_sm')\n",
            "\u001b[38;5;3m⚠ Restart to reload dependencies\u001b[0m\n",
            "If you are in a Jupyter or Colab notebook, you may need to restart Python in\n",
            "order to load all the package's dependencies. You can do this by selecting the\n",
            "'Restart kernel' or 'Restart runtime' option.\n"
          ]
        }
      ]
    },
    {
      "cell_type": "markdown",
      "source": [
        "* Tokenización: Dividir un texto en palabras (tokens).\n",
        "* Lematización: Obtener la forma base (lema) de una palabra.\n",
        "* Etiquetado gramatical: Determinar la categoría gramatical (verbo, sustantivo, adjetivo, etc.).\n",
        "* Reconocimiento de entidades nombradas (NER): Identificar nombres de personas, lugares, organizaciones, fechas, etc.\n",
        "* Análisis sintáctico: Ver cómo las palabras se relacionan en una oración."
      ],
      "metadata": {
        "id": "-n-Fr2xEYWqZ"
      }
    },
    {
      "cell_type": "code",
      "source": [
        "import spacy\n",
        "nlp=spacy.load('es_core_news_sm')\n",
        "doc=nlp('caminar caminando caminó')\n",
        "for token in doc:\n",
        "  print(token.text, \"---\", token.lemma_)"
      ],
      "metadata": {
        "colab": {
          "base_uri": "https://localhost:8080/"
        },
        "id": "Qc3FtE23Udgb",
        "outputId": "b8777597-c354-4cc4-c2f7-44a6734baae8"
      },
      "execution_count": 11,
      "outputs": [
        {
          "output_type": "stream",
          "name": "stdout",
          "text": [
            "caminar --- caminar\n",
            "caminando --- caminar\n",
            "caminó --- caminar\n"
          ]
        }
      ]
    },
    {
      "cell_type": "code",
      "source": [
        "# Texto de ejemplo\n",
        "texto = \"Apple es una empresa de tecnología fundada por Steve Jobs en California.\"\n",
        "doc = nlp(texto)\n",
        "# Tokenización (imprimir las palabras individuales)\n",
        "print(\"Tokenización\")\n",
        "for token in doc:\n",
        "    print(token.text)\n",
        "# Lametización (imprimir el lema de cada palabra)\n",
        "print(\"\\nLematización:\")\n",
        "for token in doc:\n",
        "    print(token.text, \"-->\", token.lemma_)\n",
        "# Etiquetado gramatical\n",
        "print(\"\\nEtiquetado gramatical:\")\n",
        "for token in doc:\n",
        "    print(token.text, \"-->\", token.pos_)\n",
        "# Reconocimiento de entidades nombradas\n",
        "print(\"\\nReconocimiento de entidades nombradas:\")\n",
        "for ent in doc.ents:\n",
        "    print(ent.text, \"-->\", ent.label_)"
      ],
      "metadata": {
        "colab": {
          "base_uri": "https://localhost:8080/"
        },
        "id": "LWbmR7LyZovy",
        "outputId": "cf1e044b-6dcd-466e-9126-51aa69a5062a"
      },
      "execution_count": 12,
      "outputs": [
        {
          "output_type": "stream",
          "name": "stdout",
          "text": [
            "Tokenización\n",
            "Apple\n",
            "es\n",
            "una\n",
            "empresa\n",
            "de\n",
            "tecnología\n",
            "fundada\n",
            "por\n",
            "Steve\n",
            "Jobs\n",
            "en\n",
            "California\n",
            ".\n",
            "\n",
            "Lematización:\n",
            "Apple --> Apple\n",
            "es --> ser\n",
            "una --> uno\n",
            "empresa --> empresa\n",
            "de --> de\n",
            "tecnología --> tecnología\n",
            "fundada --> fundado\n",
            "por --> por\n",
            "Steve --> Steve\n",
            "Jobs --> Jobs\n",
            "en --> en\n",
            "California --> California\n",
            ". --> .\n",
            "\n",
            "Etiquetado gramatical:\n",
            "Apple --> PROPN\n",
            "es --> AUX\n",
            "una --> DET\n",
            "empresa --> NOUN\n",
            "de --> ADP\n",
            "tecnología --> NOUN\n",
            "fundada --> ADJ\n",
            "por --> ADP\n",
            "Steve --> PROPN\n",
            "Jobs --> PROPN\n",
            "en --> ADP\n",
            "California --> PROPN\n",
            ". --> PUNCT\n",
            "\n",
            "Reconocimiento de entidades nombradas:\n",
            "Apple --> ORG\n",
            "Steve Jobs --> PER\n",
            "California --> LOC\n"
          ]
        }
      ]
    },
    {
      "cell_type": "code",
      "source": [
        "url_train='/content/drive/MyDrive/Natural-language-processing/train.csv'\n",
        "url_test='/content/drive/MyDrive/Natural-language-processing/test (1).csv'\n",
        "train=pd.read_csv(url_train)\n",
        "test=pd.read_csv(url_test)"
      ],
      "metadata": {
        "id": "yPLiKR3JmPQ2"
      },
      "execution_count": 13,
      "outputs": []
    },
    {
      "cell_type": "code",
      "source": [
        "print(train.shape)\n",
        "print(test.shape)"
      ],
      "metadata": {
        "colab": {
          "base_uri": "https://localhost:8080/"
        },
        "id": "TfgumuDYOV07",
        "outputId": "46ba0e84-8a0c-4b36-83c7-5e550a0a0cb3"
      },
      "execution_count": 14,
      "outputs": [
        {
          "output_type": "stream",
          "name": "stdout",
          "text": [
            "(7613, 5)\n",
            "(3263, 4)\n"
          ]
        }
      ]
    },
    {
      "cell_type": "code",
      "source": [
        "train.info()"
      ],
      "metadata": {
        "colab": {
          "base_uri": "https://localhost:8080/"
        },
        "id": "bP0R5sRmmPCe",
        "outputId": "c0132d77-61f0-4ef1-9c12-f042dc68579c"
      },
      "execution_count": 15,
      "outputs": [
        {
          "output_type": "stream",
          "name": "stdout",
          "text": [
            "<class 'pandas.core.frame.DataFrame'>\n",
            "RangeIndex: 7613 entries, 0 to 7612\n",
            "Data columns (total 5 columns):\n",
            " #   Column    Non-Null Count  Dtype \n",
            "---  ------    --------------  ----- \n",
            " 0   id        7613 non-null   int64 \n",
            " 1   keyword   7552 non-null   object\n",
            " 2   location  5080 non-null   object\n",
            " 3   text      7613 non-null   object\n",
            " 4   target    7613 non-null   int64 \n",
            "dtypes: int64(2), object(3)\n",
            "memory usage: 297.5+ KB\n"
          ]
        }
      ]
    },
    {
      "cell_type": "code",
      "source": [
        "train.shape"
      ],
      "metadata": {
        "colab": {
          "base_uri": "https://localhost:8080/"
        },
        "id": "k2vCfi4VLkIh",
        "outputId": "d8d1f56f-8ac9-4796-f73f-6314af89dbb8"
      },
      "execution_count": 16,
      "outputs": [
        {
          "output_type": "execute_result",
          "data": {
            "text/plain": [
              "(7613, 5)"
            ]
          },
          "metadata": {},
          "execution_count": 16
        }
      ]
    },
    {
      "cell_type": "code",
      "source": [
        "train['target'].value_counts()"
      ],
      "metadata": {
        "colab": {
          "base_uri": "https://localhost:8080/",
          "height": 178
        },
        "id": "sGYaeXbELmmW",
        "outputId": "ea1a7ea9-748a-463e-9653-7a7c4803f5ad"
      },
      "execution_count": 17,
      "outputs": [
        {
          "output_type": "execute_result",
          "data": {
            "text/plain": [
              "target\n",
              "0    4342\n",
              "1    3271\n",
              "Name: count, dtype: int64"
            ],
            "text/html": [
              "<div>\n",
              "<style scoped>\n",
              "    .dataframe tbody tr th:only-of-type {\n",
              "        vertical-align: middle;\n",
              "    }\n",
              "\n",
              "    .dataframe tbody tr th {\n",
              "        vertical-align: top;\n",
              "    }\n",
              "\n",
              "    .dataframe thead th {\n",
              "        text-align: right;\n",
              "    }\n",
              "</style>\n",
              "<table border=\"1\" class=\"dataframe\">\n",
              "  <thead>\n",
              "    <tr style=\"text-align: right;\">\n",
              "      <th></th>\n",
              "      <th>count</th>\n",
              "    </tr>\n",
              "    <tr>\n",
              "      <th>target</th>\n",
              "      <th></th>\n",
              "    </tr>\n",
              "  </thead>\n",
              "  <tbody>\n",
              "    <tr>\n",
              "      <th>0</th>\n",
              "      <td>4342</td>\n",
              "    </tr>\n",
              "    <tr>\n",
              "      <th>1</th>\n",
              "      <td>3271</td>\n",
              "    </tr>\n",
              "  </tbody>\n",
              "</table>\n",
              "</div><br><label><b>dtype:</b> int64</label>"
            ]
          },
          "metadata": {},
          "execution_count": 17
        }
      ]
    },
    {
      "cell_type": "code",
      "source": [
        "# class distribution\n",
        "sns.countplot(data=train,x='target')\n",
        "plt.title('Class distribution')\n",
        "plt.show()"
      ],
      "metadata": {
        "colab": {
          "base_uri": "https://localhost:8080/",
          "height": 472
        },
        "id": "AyGwrQTPLs7N",
        "outputId": "e30beb01-7629-4ef7-916f-4a6b25be8d0c"
      },
      "execution_count": 18,
      "outputs": [
        {
          "output_type": "display_data",
          "data": {
            "text/plain": [
              "<Figure size 640x480 with 1 Axes>"
            ],
            "image/png": "[encoded data removed]"
          },
          "metadata": {}
        }
      ]
    },
    {
      "cell_type": "code",
      "source": [
        "# Number of character in tweets\n",
        "tween_len=train[train['target']==1]['text'].str.len()\n",
        "sns.histplot(tween_len,color='red')\n",
        "plt.title('disaster tweets')\n",
        "plt.show()\n",
        "\n",
        "tween_len_1=train[train['target']==0]['text'].str.len()\n",
        "sns.histplot(tween_len_1,color='blue')\n",
        "plt.title('non disaster tweets')\n",
        "plt.show()"
      ],
      "metadata": {
        "colab": {
          "base_uri": "https://localhost:8080/",
          "height": 927
        },
        "id": "HYm7RURePtM0",
        "outputId": "221aa788-0d6e-48c6-fa20-4bd58430f035"
      },
      "execution_count": 19,
      "outputs": [
        {
          "output_type": "display_data",
          "data": {
            "text/plain": [
              "<Figure size 640x480 with 1 Axes>"
            ],
            "image/png": "[encoded data removed]"
          },
          "metadata": {}
        },
        {
          "output_type": "display_data",
          "data": {
            "text/plain": [
              "<Figure size 640x480 with 1 Axes>"
            ],
            "image/png": "[encoded data removed]"
          },
          "metadata": {}
        }
      ]
    },
    {
      "cell_type": "code",
      "source": [
        "# Number of word in tweets\n",
        "tweet_len=train[train['target']==1]['text'].str.split().map(lambda x: len(x))\n",
        "sns.histplot(tweet_len,color='red')\n",
        "plt.title('disaster tweets')\n",
        "plt.show()\n",
        "\n",
        "\n",
        "tweet_len_1=train[train['target']==0]['text'].str.split().map(lambda x: len(x))\n",
        "sns.histplot(tweet_len_1,color='blue')\n",
        "plt.title('non disaster tweets')\n",
        "plt.show()"
      ],
      "metadata": {
        "colab": {
          "base_uri": "https://localhost:8080/",
          "height": 927
        },
        "id": "gkwb5VdeR5Tr",
        "outputId": "5995e8fa-f52d-43c2-ed32-1787102f7949"
      },
      "execution_count": 20,
      "outputs": [
        {
          "output_type": "display_data",
          "data": {
            "text/plain": [
              "<Figure size 640x480 with 1 Axes>"
            ],
            "image/png": "[encoded data removed]"
          },
          "metadata": {}
        },
        {
          "output_type": "display_data",
          "data": {
            "text/plain": [
              "<Figure size 640x480 with 1 Axes>"
            ],
            "image/png": "[encoded data removed]"
          },
          "metadata": {}
        }
      ]
    },
    {
      "cell_type": "code",
      "source": [
        "# Average word lenght in a tweet\n",
        "word=train[train['target']==1]['text'].str.split().apply(lambda x: [len(i) for i in x])\n",
        "word_1=train[train['target']==0]['text'].str.split().apply(lambda x: [len(i) for i in x])\n",
        "sns.displot(word.map(lambda x: np.mean(x)),color='red')\n",
        "plt.title('disaster tweets')\n",
        "plt.show()\n",
        "\n",
        "sns.displot(word_1.map(lambda x: np.mean(x)),color='blue')\n",
        "plt.title('non disaster tweets')\n",
        "plt.show()"
      ],
      "metadata": {
        "colab": {
          "base_uri": "https://localhost:8080/",
          "height": 1000
        },
        "id": "MJEpUd-UR5Aw",
        "outputId": "dd0c9443-7519-43cf-ee67-fd0dd6dbf78b"
      },
      "execution_count": 21,
      "outputs": [
        {
          "output_type": "display_data",
          "data": {
            "text/plain": [
              "<Figure size 500x500 with 1 Axes>"
            ],
            "image/png": "[encoded data removed]"
          },
          "metadata": {}
        },
        {
          "output_type": "display_data",
          "data": {
            "text/plain": [
              "<Figure size 500x500 with 1 Axes>"
            ],
            "image/png": "[encoded data removed]"
          },
          "metadata": {}
        }
      ]
    },
    {
      "cell_type": "code",
      "source": [
        "# Count the stop words\n",
        "def create_corpus(target):\n",
        "    corpus=[]\n",
        "\n",
        "    for x in train[train['target']==target]['text'].str.split():\n",
        "        for i in x:\n",
        "            corpus.append(i)\n",
        "    return corpus"
      ],
      "metadata": {
        "id": "pdOhzcpBWXiE"
      },
      "execution_count": 22,
      "outputs": []
    },
    {
      "cell_type": "code",
      "source": [
        "corpus=create_corpus(0)\n",
        "corpus"
      ],
      "metadata": {
        "id": "8wlIQbzMWXVg",
        "colab": {
          "base_uri": "https://localhost:8080/"
        },
        "outputId": "770999df-6356-4a7f-c3c0-54636f5350b1"
      },
      "execution_count": 23,
      "outputs": [
        {
          "output_type": "execute_result",
          "data": {
            "text/plain": [
              "[\"What's\",\n",
              " 'up',\n",
              " 'man?',\n",
              " 'I',\n",
              " 'love',\n",
              " 'fruits',\n",
              " 'Summer',\n",
              " 'is',\n",
              " 'lovely',\n",
              " 'My',\n",
              " 'car',\n",
              " 'is',\n",
              " 'so',\n",
              " 'fast',\n",
              " 'What',\n",
              " 'a',\n",
              " 'goooooooaaaaaal!!!!!!',\n",
              " 'this',\n",
              " 'is',\n",
              " 'ridiculous....',\n",
              " 'London',\n",
              " 'is',\n",
              " 'cool',\n",
              " ';)',\n",
              " 'Love',\n",
              " 'skiing',\n",
              " 'What',\n",
              " 'a',\n",
              " 'wonderful',\n",
              " 'day!',\n",
              " 'LOOOOOOL',\n",
              " 'No',\n",
              " 'way...I',\n",
              " \"can't\",\n",
              " 'eat',\n",
              " 'that',\n",
              " 'shit',\n",
              " 'Was',\n",
              " 'in',\n",
              " 'NYC',\n",
              " 'last',\n",
              " 'week!',\n",
              " 'Love',\n",
              " 'my',\n",
              " 'girlfriend',\n",
              " 'Cooool',\n",
              " ':)',\n",
              " 'Do',\n",
              " 'you',\n",
              " 'like',\n",
              " 'pasta?',\n",
              " 'The',\n",
              " 'end!',\n",
              " 'We',\n",
              " 'always',\n",
              " 'try',\n",
              " 'to',\n",
              " 'bring',\n",
              " 'the',\n",
              " 'heavy.',\n",
              " '#metal',\n",
              " '#RT',\n",
              " 'http://t.co/YAo1e0xngw',\n",
              " 'Crying',\n",
              " 'out',\n",
              " 'for',\n",
              " 'more!',\n",
              " 'Set',\n",
              " 'me',\n",
              " 'ablaze',\n",
              " 'On',\n",
              " 'plus',\n",
              " 'side',\n",
              " 'LOOK',\n",
              " 'AT',\n",
              " 'THE',\n",
              " 'SKY',\n",
              " 'LAST',\n",
              " 'NIGHT',\n",
              " 'IT',\n",
              " 'WAS',\n",
              " 'ABLAZE',\n",
              " 'http://t.co/qqsmshaJ3N',\n",
              " '@PhDSquares',\n",
              " '#mufc',\n",
              " \"they've\",\n",
              " 'built',\n",
              " 'so',\n",
              " 'much',\n",
              " 'hype',\n",
              " 'around',\n",
              " 'new',\n",
              " 'acquisitions',\n",
              " 'but',\n",
              " 'I',\n",
              " 'doubt',\n",
              " 'they',\n",
              " 'will',\n",
              " 'set',\n",
              " 'the',\n",
              " 'EPL',\n",
              " 'ablaze',\n",
              " 'this',\n",
              " 'season.',\n",
              " 'Ablaze',\n",
              " 'for',\n",
              " 'you',\n",
              " 'Lord',\n",
              " ':D',\n",
              " 'Check',\n",
              " 'these',\n",
              " 'out:',\n",
              " 'http://t.co/rOI2NSmEJJ',\n",
              " 'http://t.co/3Tj8ZjiN21',\n",
              " 'http://t.co/YDUiXEfIpE',\n",
              " 'http://t.co/LxTjc87KLS',\n",
              " '#nsfw',\n",
              " 'on',\n",
              " 'the',\n",
              " 'outside',\n",
              " \"you're\",\n",
              " 'ablaze',\n",
              " 'and',\n",
              " 'alive',\n",
              " 'but',\n",
              " \"you're\",\n",
              " 'dead',\n",
              " 'inside',\n",
              " 'Had',\n",
              " 'an',\n",
              " 'awesome',\n",
              " 'time',\n",
              " 'visiting',\n",
              " 'the',\n",
              " 'CFC',\n",
              " 'head',\n",
              " 'office',\n",
              " 'the',\n",
              " 'ancop',\n",
              " 'site',\n",
              " 'and',\n",
              " 'ablaze.',\n",
              " 'Thanks',\n",
              " 'to',\n",
              " 'Tita',\n",
              " 'Vida',\n",
              " 'for',\n",
              " 'taking',\n",
              " 'care',\n",
              " 'of',\n",
              " 'us',\n",
              " '??',\n",
              " 'SOOOO',\n",
              " 'PUMPED',\n",
              " 'FOR',\n",
              " 'ABLAZE',\n",
              " '????',\n",
              " '@southridgelife',\n",
              " 'I',\n",
              " 'wanted',\n",
              " 'to',\n",
              " 'set',\n",
              " 'Chicago',\n",
              " 'ablaze',\n",
              " 'with',\n",
              " 'my',\n",
              " 'preaching...',\n",
              " 'But',\n",
              " 'not',\n",
              " 'my',\n",
              " 'hotel!',\n",
              " 'http://t.co/o9qknbfOFX',\n",
              " 'I',\n",
              " 'gained',\n",
              " '3',\n",
              " 'followers',\n",
              " 'in',\n",
              " 'the',\n",
              " 'last',\n",
              " 'week.',\n",
              " 'You?',\n",
              " 'Know',\n",
              " 'your',\n",
              " 'stats',\n",
              " 'and',\n",
              " 'grow',\n",
              " 'with',\n",
              " 'http://t.co/TIyUliF5c6',\n",
              " 'Building',\n",
              " 'the',\n",
              " 'perfect',\n",
              " 'tracklist',\n",
              " 'to',\n",
              " 'life',\n",
              " 'leave',\n",
              " 'the',\n",
              " 'streets',\n",
              " 'ablaze',\n",
              " 'Check',\n",
              " 'these',\n",
              " 'out:',\n",
              " 'http://t.co/rOI2NSmEJJ',\n",
              " 'http://t.co/3Tj8ZjiN21',\n",
              " 'http://t.co/YDUiXEfIpE',\n",
              " 'http://t.co/LxTjc87KLS',\n",
              " '#nsfw',\n",
              " 'First',\n",
              " 'night',\n",
              " 'with',\n",
              " 'retainers',\n",
              " 'in.',\n",
              " \"It's\",\n",
              " 'quite',\n",
              " 'weird.',\n",
              " 'Better',\n",
              " 'get',\n",
              " 'used',\n",
              " 'to',\n",
              " 'it;',\n",
              " 'I',\n",
              " 'have',\n",
              " 'to',\n",
              " 'wear',\n",
              " 'them',\n",
              " 'every',\n",
              " 'single',\n",
              " 'night',\n",
              " 'for',\n",
              " 'the',\n",
              " 'next',\n",
              " 'year',\n",
              " 'at',\n",
              " 'least.',\n",
              " 'SANTA',\n",
              " 'CRUZ',\n",
              " '\\x89ÛÓ',\n",
              " 'Head',\n",
              " 'of',\n",
              " 'the',\n",
              " 'St',\n",
              " 'Elizabeth',\n",
              " 'Police',\n",
              " 'Superintendent',\n",
              " 'Lanford',\n",
              " 'Salmon',\n",
              " 'has',\n",
              " 'r',\n",
              " '...',\n",
              " '-',\n",
              " 'http://t.co/vplR5Hka2u',\n",
              " 'http://t.co/SxHW2TNNLf',\n",
              " 'Noches',\n",
              " 'El-Bestia',\n",
              " \"'@Alexis_Sanchez:\",\n",
              " 'happy',\n",
              " 'to',\n",
              " 'see',\n",
              " 'my',\n",
              " 'teammates',\n",
              " 'and',\n",
              " 'training',\n",
              " 'hard',\n",
              " '??',\n",
              " 'goodnight',\n",
              " 'gunners.??????',\n",
              " \"http://t.co/uc4j4jHvGR'\",\n",
              " 'Set',\n",
              " 'our',\n",
              " 'hearts',\n",
              " 'ablaze',\n",
              " 'and',\n",
              " 'every',\n",
              " 'city',\n",
              " 'was',\n",
              " 'a',\n",
              " 'gift',\n",
              " 'And',\n",
              " 'every',\n",
              " 'skyline',\n",
              " 'was',\n",
              " 'like',\n",
              " 'a',\n",
              " 'kiss',\n",
              " 'upon',\n",
              " 'the',\n",
              " 'lips',\n",
              " '@\\x89Û_',\n",
              " 'https://t.co/cYoMPZ1A0Z',\n",
              " 'They',\n",
              " 'sky',\n",
              " 'was',\n",
              " 'ablaze',\n",
              " 'tonight',\n",
              " 'in',\n",
              " 'Los',\n",
              " 'Angeles.',\n",
              " \"I'm\",\n",
              " 'expecting',\n",
              " 'IG',\n",
              " 'and',\n",
              " 'FB',\n",
              " 'to',\n",
              " 'be',\n",
              " 'filled',\n",
              " 'with',\n",
              " 'sunset',\n",
              " 'shots',\n",
              " 'if',\n",
              " 'I',\n",
              " 'know',\n",
              " 'my',\n",
              " 'peeps!!',\n",
              " 'Revel',\n",
              " 'in',\n",
              " 'yours',\n",
              " 'wmv',\n",
              " 'videos',\n",
              " 'by',\n",
              " 'means',\n",
              " 'of',\n",
              " 'mac',\n",
              " 'farewell',\n",
              " 'ablaze',\n",
              " 'wmv',\n",
              " 'en',\n",
              " 'route',\n",
              " 'to',\n",
              " 'dvd:',\n",
              " 'GtxRWm',\n",
              " 'Progressive',\n",
              " 'greetings!',\n",
              " 'In',\n",
              " 'about',\n",
              " 'a',\n",
              " 'month',\n",
              " 'students',\n",
              " 'would',\n",
              " 'have',\n",
              " 'set',\n",
              " 'their',\n",
              " 'pens',\n",
              " 'ablaze',\n",
              " 'in',\n",
              " 'The',\n",
              " 'Torch',\n",
              " \"Publications'...\",\n",
              " 'http://t.co/9FxPiXQuJt',\n",
              " 'Rene',\n",
              " 'Ablaze',\n",
              " '&amp;',\n",
              " 'Jacinta',\n",
              " '-',\n",
              " 'Secret',\n",
              " '2k13',\n",
              " '(Fallen',\n",
              " 'Skies',\n",
              " 'Edit)',\n",
              " '-',\n",
              " 'Mar',\n",
              " '30',\n",
              " '2013',\n",
              " 'https://t.co/7MLMsUzV1Z',\n",
              " '#NowPlaying:',\n",
              " 'Rene',\n",
              " 'Ablaze',\n",
              " '&amp;',\n",
              " 'Ian',\n",
              " 'Buff',\n",
              " '-',\n",
              " 'Magnitude',\n",
              " 'http://t.co/Av2JSjfFtc',\n",
              " '#EDM',\n",
              " '@ablaze',\n",
              " 'what',\n",
              " 'time',\n",
              " 'does',\n",
              " 'your',\n",
              " 'talk',\n",
              " 'go',\n",
              " 'until?',\n",
              " 'I',\n",
              " \"don't\",\n",
              " 'know',\n",
              " 'if',\n",
              " 'I',\n",
              " 'can',\n",
              " 'make',\n",
              " 'it',\n",
              " 'due',\n",
              " 'to',\n",
              " 'work.',\n",
              " \"'I\",\n",
              " \"can't\",\n",
              " 'have',\n",
              " 'kids',\n",
              " 'cuz',\n",
              " 'I',\n",
              " 'got',\n",
              " 'in',\n",
              " 'a',\n",
              " 'bicycle',\n",
              " 'accident',\n",
              " '&amp;',\n",
              " 'split',\n",
              " 'my',\n",
              " 'testicles.',\n",
              " \"it's\",\n",
              " 'impossible',\n",
              " 'for',\n",
              " 'me',\n",
              " 'to',\n",
              " 'have',\n",
              " \"kids'\",\n",
              " 'MICHAEL',\n",
              " 'YOU',\n",
              " 'ARE',\n",
              " 'THE',\n",
              " 'FATHER',\n",
              " 'http://t.co/GKYe6gjTk5',\n",
              " 'Had',\n",
              " 'a',\n",
              " '#personalinjury',\n",
              " 'accident',\n",
              " 'this',\n",
              " 'summer?',\n",
              " 'Read',\n",
              " 'our',\n",
              " 'advice',\n",
              " '&amp;',\n",
              " 'see',\n",
              " 'how',\n",
              " 'a',\n",
              " '#solicitor',\n",
              " 'can',\n",
              " 'help',\n",
              " '#OtleyHour',\n",
              " '#stlouis',\n",
              " '#caraccidentlawyer',\n",
              " 'Speeding',\n",
              " 'Among',\n",
              " 'Top',\n",
              " 'Causes',\n",
              " 'of',\n",
              " 'Teen',\n",
              " 'Accidents',\n",
              " 'https://t.co/k4zoMOF319',\n",
              " 'https://t.co/S2kXVM0cBA',\n",
              " 'Car',\n",
              " 'Accident',\n",
              " 'tee\\x89Û_',\n",
              " 'RT',\n",
              " '@SleepJunkies:',\n",
              " 'Sleeping',\n",
              " 'pills',\n",
              " 'double',\n",
              " 'your',\n",
              " 'risk',\n",
              " 'of',\n",
              " 'a',\n",
              " 'car',\n",
              " 'accident',\n",
              " 'http://t.co/7s9Nm1fiCT',\n",
              " \"'By\",\n",
              " \"accident'\",\n",
              " 'they',\n",
              " 'knew',\n",
              " 'what',\n",
              " 'was',\n",
              " 'gon',\n",
              " 'happen',\n",
              " 'https://t.co/Ysxun5vCeh',\n",
              " 'mom:',\n",
              " \"'we\",\n",
              " \"didn't\",\n",
              " 'get',\n",
              " 'home',\n",
              " 'as',\n",
              " 'fast',\n",
              " 'as',\n",
              " 'we',\n",
              " \"wished'\",\n",
              " 'me:',\n",
              " \"'why\",\n",
              " 'is',\n",
              " \"that?'\",\n",
              " 'mom:',\n",
              " \"'there\",\n",
              " 'was',\n",
              " 'an',\n",
              " 'accident',\n",
              " 'and',\n",
              " 'some',\n",
              " 'truck',\n",
              " 'spilt',\n",
              " 'mayonnaise',\n",
              " 'all',\n",
              " 'over',\n",
              " '??????',\n",
              " 'Can',\n",
              " 'wait',\n",
              " 'to',\n",
              " 'see',\n",
              " 'how',\n",
              " 'pissed',\n",
              " 'Donnie',\n",
              " 'is',\n",
              " 'when',\n",
              " 'I',\n",
              " 'tell',\n",
              " 'him',\n",
              " 'I',\n",
              " 'was',\n",
              " 'in',\n",
              " 'ANOTHER',\n",
              " 'accident??',\n",
              " '????',\n",
              " 'it',\n",
              " 'was',\n",
              " 'an',\n",
              " 'accident',\n",
              " 'http://t.co/Oia5fxi4gM',\n",
              " 'Has',\n",
              " 'an',\n",
              " 'accident',\n",
              " 'changed',\n",
              " 'your',\n",
              " 'life?',\n",
              " 'We',\n",
              " 'will',\n",
              " 'help',\n",
              " 'you',\n",
              " 'determine',\n",
              " 'options',\n",
              " 'that',\n",
              " 'can',\n",
              " 'financially',\n",
              " 'support',\n",
              " 'life',\n",
              " 'care',\n",
              " 'plans',\n",
              " 'and',\n",
              " 'on-going',\n",
              " 'treatment.',\n",
              " '@flowri',\n",
              " 'were',\n",
              " 'you',\n",
              " 'marinading',\n",
              " 'it',\n",
              " 'or',\n",
              " 'was',\n",
              " 'it',\n",
              " 'an',\n",
              " 'accident?',\n",
              " 'I',\n",
              " 'still',\n",
              " 'have',\n",
              " 'not',\n",
              " 'heard',\n",
              " 'Church',\n",
              " 'Leaders',\n",
              " 'of',\n",
              " 'Kenya',\n",
              " 'coming',\n",
              " 'forward',\n",
              " 'to',\n",
              " 'comment',\n",
              " 'on',\n",
              " 'the',\n",
              " 'accident',\n",
              " 'issue',\n",
              " 'and',\n",
              " 'disciplinary',\n",
              " 'measures#ArrestPastorNganga',\n",
              " '@afterShock_DeLo',\n",
              " 'scuf',\n",
              " 'ps',\n",
              " 'live',\n",
              " 'and',\n",
              " 'the',\n",
              " 'game...',\n",
              " 'cya',\n",
              " \"'The\",\n",
              " 'man',\n",
              " 'who',\n",
              " 'can',\n",
              " 'drive',\n",
              " 'himself',\n",
              " 'further',\n",
              " 'once',\n",
              " 'the',\n",
              " 'effort',\n",
              " 'gets',\n",
              " 'painful',\n",
              " 'is',\n",
              " 'the',\n",
              " 'man',\n",
              " 'who',\n",
              " 'will',\n",
              " \"win.'\",\n",
              " 'Roger',\n",
              " 'Bannister',\n",
              " '320',\n",
              " '[IR]',\n",
              " 'ICEMOON',\n",
              " '[AFTERSHOCK]',\n",
              " '|',\n",
              " 'http://t.co/yNXnvVKCDA',\n",
              " '|',\n",
              " '@djicemoon',\n",
              " '|',\n",
              " '#Dubstep',\n",
              " '#TrapMusic',\n",
              " '#DnB',\n",
              " '#EDM',\n",
              " '#Dance',\n",
              " '#Ices\\x89Û_',\n",
              " 'http://t.co/weQPesENku',\n",
              " \"'There\",\n",
              " 'is',\n",
              " 'no',\n",
              " 'victory',\n",
              " 'at',\n",
              " 'bargain',\n",
              " 'basement',\n",
              " \"prices.'\",\n",
              " 'Dwight',\n",
              " 'David',\n",
              " 'Eisenhower',\n",
              " '320',\n",
              " '[IR]',\n",
              " 'ICEMOON',\n",
              " '[AFTERSHOCK]',\n",
              " '|',\n",
              " 'http://t.co/vAM5POdGyw',\n",
              " '|',\n",
              " '@djicemoon',\n",
              " '|',\n",
              " '#Dubstep',\n",
              " '#TrapMusic',\n",
              " '#DnB',\n",
              " '#EDM',\n",
              " '#Dance',\n",
              " '#Ices\\x89Û_',\n",
              " 'http://t.co/zEVakJaPcz',\n",
              " \"'Nobody\",\n",
              " 'remembers',\n",
              " 'who',\n",
              " 'came',\n",
              " 'in',\n",
              " \"second.'\",\n",
              " 'Charles',\n",
              " 'Schulz',\n",
              " '@afterShock_DeLo',\n",
              " 'im',\n",
              " 'speaking',\n",
              " 'from',\n",
              " 'someone',\n",
              " 'that',\n",
              " 'is',\n",
              " 'using',\n",
              " 'a',\n",
              " 'scuf',\n",
              " 'on',\n",
              " 'xb1',\n",
              " 'most',\n",
              " 'of',\n",
              " 'them',\n",
              " 'people',\n",
              " 'will',\n",
              " 'end',\n",
              " 'up',\n",
              " 'getting',\n",
              " 'on',\n",
              " 'for',\n",
              " 'ps',\n",
              " 'also.',\n",
              " \"'The\",\n",
              " 'harder',\n",
              " 'the',\n",
              " 'conflict',\n",
              " 'the',\n",
              " 'more',\n",
              " 'glorious',\n",
              " 'the',\n",
              " \"triumph.'\",\n",
              " 'Thomas',\n",
              " 'Paine',\n",
              " '#GrowingUpSpoiled',\n",
              " 'going',\n",
              " 'clay',\n",
              " 'pigeon',\n",
              " 'shooting',\n",
              " 'and',\n",
              " 'crying',\n",
              " 'because',\n",
              " 'of',\n",
              " 'the',\n",
              " \"'aftershock'\",\n",
              " 'So',\n",
              " 'i',\n",
              " 'guess',\n",
              " 'no',\n",
              " 'one',\n",
              " 'actually',\n",
              " 'wants',\n",
              " 'any',\n",
              " 'free',\n",
              " 'Aftershock',\n",
              " 'TC.....',\n",
              " 'Aftershock',\n",
              " 'was',\n",
              " 'the',\n",
              " 'most',\n",
              " 'terrifying',\n",
              " 'best',\n",
              " 'roller',\n",
              " 'coaster',\n",
              " \"I've\",\n",
              " 'ever',\n",
              " 'been',\n",
              " 'on.',\n",
              " '*DISCLAIMER*',\n",
              " \"I've\",\n",
              " 'been',\n",
              " 'on',\n",
              " 'very',\n",
              " 'few.',\n",
              " 'Aftershock',\n",
              " 'https://t.co/xMWODFMtUI',\n",
              " '320',\n",
              " '[IR]',\n",
              " 'ICEMOON',\n",
              " '[AFTERSHOCK]',\n",
              " '|',\n",
              " 'http://t.co/M4JDZMGJoW',\n",
              " '|',\n",
              " '@djicemoon',\n",
              " '|',\n",
              " '#Dubstep',\n",
              " '#TrapMusic',\n",
              " '#DnB',\n",
              " '#EDM',\n",
              " '#Dance',\n",
              " '#Ices\\x89Û_',\n",
              " 'http://t.co/n0uhAsfkBv',\n",
              " '320',\n",
              " '[IR]',\n",
              " 'ICEMOON',\n",
              " '[AFTERSHOCK]',\n",
              " '|',\n",
              " 'http://t.co/vAM5POdGyw',\n",
              " '|',\n",
              " '@djicemoon',\n",
              " '|',\n",
              " '#Dubstep',\n",
              " '#TrapMusic',\n",
              " '#DnB',\n",
              " '#EDM',\n",
              " '#Dance',\n",
              " '#Ices\\x89Û_',\n",
              " 'http://t.co/zEVakJaPcz',\n",
              " '320',\n",
              " '[IR]',\n",
              " 'ICEMOON',\n",
              " '[AFTERSHOCK]',\n",
              " '|',\n",
              " 'http://t.co/e14EPzhotH',\n",
              " '|',\n",
              " '@djicemoon',\n",
              " '|',\n",
              " '#Dubstep',\n",
              " '#TrapMusic',\n",
              " '#DnB',\n",
              " '#EDM',\n",
              " '#Dance',\n",
              " '#Ices\\x89Û_',\n",
              " 'http://t.co/22a9D5DO6q',\n",
              " '@KJForDays',\n",
              " \"I'm\",\n",
              " 'seeing',\n",
              " 'them',\n",
              " 'and',\n",
              " 'Issues',\n",
              " 'at',\n",
              " 'aftershock',\n",
              " '??',\n",
              " '320',\n",
              " '[IR]',\n",
              " 'ICEMOON',\n",
              " '[AFTERSHOCK]',\n",
              " '|',\n",
              " 'http://t.co/THyzOMVWU0',\n",
              " '|',\n",
              " '@djicemoon',\n",
              " '|',\n",
              " '#Dubstep',\n",
              " '#TrapMusic',\n",
              " '#DnB',\n",
              " '#EDM',\n",
              " '#Dance',\n",
              " '#Ices\\x89Û_',\n",
              " 'http://t.co/83jOO0xk29',\n",
              " '320',\n",
              " '[IR]',\n",
              " 'ICEMOON',\n",
              " '[AFTERSHOCK]',\n",
              " '|',\n",
              " 'http://t.co/THyzOMVWU0',\n",
              " '|',\n",
              " '@djicemoon',\n",
              " '|',\n",
              " '#Dubstep',\n",
              " '#TrapMusic',\n",
              " '#DnB',\n",
              " '#EDM',\n",
              " '#Dance',\n",
              " '#Ices\\x89Û_',\n",
              " 'http://t.co/83jOO0xk29',\n",
              " '#WisdomWed',\n",
              " 'BONUS',\n",
              " '-',\n",
              " '5',\n",
              " 'Minute',\n",
              " 'Daily',\n",
              " 'Habits',\n",
              " 'that',\n",
              " 'could',\n",
              " 'really',\n",
              " 'improve',\n",
              " 'your',\n",
              " 'life.',\n",
              " 'How',\n",
              " 'many',\n",
              " 'do',\n",
              " 'you',\n",
              " 'already',\n",
              " 'do?',\n",
              " '#lifehacks',\n",
              " 'http://t.co/TBm9FQb8cW',\n",
              " 'Aftershock:',\n",
              " 'Protect',\n",
              " 'Yourself',\n",
              " 'and',\n",
              " 'Profit',\n",
              " 'in',\n",
              " 'the',\n",
              " 'Next',\n",
              " 'Global',\n",
              " 'Financial',\n",
              " 'Meltdown',\n",
              " 'by',\n",
              " 'David',\n",
              " 'Wiedemer',\n",
              " 'http',\n",
              " 'http://t.co/WZTz4hgMVq',\n",
              " 'That',\n",
              " 'moment',\n",
              " 'when',\n",
              " 'you',\n",
              " 'get',\n",
              " 'on',\n",
              " 'a',\n",
              " 'scary',\n",
              " 'roller',\n",
              " 'coaster',\n",
              " 'and',\n",
              " 'the',\n",
              " 'guy',\n",
              " 'behind',\n",
              " 'you',\n",
              " 'is',\n",
              " 'just',\n",
              " 'screaming',\n",
              " 'bloody',\n",
              " 'murder',\n",
              " '??????',\n",
              " '#silverwood',\n",
              " '#aftershock',\n",
              " 'Aftershock',\n",
              " '\\x89ã¢',\n",
              " '(2010)',\n",
              " 'Full\\x89ã¢',\n",
              " 'Streaming',\n",
              " '-',\n",
              " 'YouTube',\n",
              " 'http://t.co/vVE3UsesGf',\n",
              " '&gt;&gt;',\n",
              " '$15',\n",
              " 'Aftershock',\n",
              " ':',\n",
              " 'Protect',\n",
              " 'Yourself',\n",
              " 'and',\n",
              " 'Profit',\n",
              " 'in',\n",
              " 'the',\n",
              " 'Next',\n",
              " 'Global',\n",
              " 'Financial...',\n",
              " '##book',\n",
              " 'http://t.co/f6ntUc734Z',\n",
              " '@esquireattire',\n",
              " 'Sometimes',\n",
              " 'you',\n",
              " 'face',\n",
              " 'difficulties',\n",
              " 'not',\n",
              " 'because',\n",
              " \"you're\",\n",
              " 'doing',\n",
              " 'something',\n",
              " 'wrong',\n",
              " 'but',\n",
              " 'because',\n",
              " \"you're\",\n",
              " 'doing',\n",
              " 'something',\n",
              " 'right.',\n",
              " '-',\n",
              " 'Joel',\n",
              " 'Osteen',\n",
              " \"'The\",\n",
              " 'only',\n",
              " 'thing',\n",
              " 'that',\n",
              " 'stands',\n",
              " 'between',\n",
              " 'you',\n",
              " 'and',\n",
              " 'your',\n",
              " 'dream',\n",
              " 'is',\n",
              " 'the',\n",
              " 'will',\n",
              " 'to',\n",
              " 'try',\n",
              " 'and',\n",
              " 'the',\n",
              " 'belief',\n",
              " 'that',\n",
              " 'it',\n",
              " 'is',\n",
              " 'actually',\n",
              " \"possible.'\",\n",
              " '-',\n",
              " 'Joel',\n",
              " 'Brown',\n",
              " 'Praise',\n",
              " 'God',\n",
              " 'that',\n",
              " 'we',\n",
              " 'have',\n",
              " 'ministry',\n",
              " 'that',\n",
              " 'tells',\n",
              " 'it',\n",
              " 'like',\n",
              " 'it',\n",
              " 'is!!!',\n",
              " '#now',\n",
              " '#wdyouth',\n",
              " '#biblestudy',\n",
              " 'https://t.co/UjK0e5GBcC',\n",
              " \"'Remembering\",\n",
              " 'that',\n",
              " 'you',\n",
              " 'are',\n",
              " 'going',\n",
              " 'to',\n",
              " 'die',\n",
              " 'is',\n",
              " 'the',\n",
              " 'best',\n",
              " 'way',\n",
              " 'I',\n",
              " 'know',\n",
              " 'to',\n",
              " 'avoid',\n",
              " 'the',\n",
              " 'trap',\n",
              " 'of',\n",
              " 'thinking',\n",
              " 'you',\n",
              " 'have',\n",
              " 'something',\n",
              " 'to',\n",
              " \"lose.'\",\n",
              " '\\x89ÛÒ',\n",
              " 'Steve',\n",
              " 'Jobs',\n",
              " 'Tried',\n",
              " 'orange',\n",
              " 'aftershock',\n",
              " 'today.',\n",
              " 'My',\n",
              " 'life',\n",
              " 'will',\n",
              " 'never',\n",
              " 'be',\n",
              " 'the',\n",
              " ...]"
            ]
          },
          "metadata": {},
          "execution_count": 23
        }
      ]
    },
    {
      "cell_type": "code",
      "source": [
        "dic=defaultdict(int)\n",
        "stop=set(stopwords.words('english'))\n",
        "for word in corpus:\n",
        "    if word in stop:\n",
        "        dic[word]+=1\n",
        "\n",
        "top=sorted(dic.items(), key=lambda x:x[1],reverse=True)[:10]\n",
        "top"
      ],
      "metadata": {
        "id": "DMlya4F4WW9j",
        "colab": {
          "base_uri": "https://localhost:8080/"
        },
        "outputId": "c785b7f4-aed7-4013-a073-6bab689172d3"
      },
      "execution_count": 24,
      "outputs": [
        {
          "output_type": "execute_result",
          "data": {
            "text/plain": [
              "[('the', 1524),\n",
              " ('a', 1115),\n",
              " ('to', 1099),\n",
              " ('and', 840),\n",
              " ('of', 834),\n",
              " ('in', 720),\n",
              " ('you', 529),\n",
              " ('is', 512),\n",
              " ('for', 452),\n",
              " ('my', 442)]"
            ]
          },
          "metadata": {},
          "execution_count": 24
        }
      ]
    },
    {
      "cell_type": "code",
      "source": [
        "x,y=zip(*top)\n",
        "plt.bar(x,y)\n",
        "plt.title('Stop-Word')\n",
        "plt.show()"
      ],
      "metadata": {
        "id": "YnW2gXzOWW3T",
        "colab": {
          "base_uri": "https://localhost:8080/",
          "height": 452
        },
        "outputId": "8d830791-4c7d-4622-d652-eac2446a2f32"
      },
      "execution_count": 25,
      "outputs": [
        {
          "output_type": "display_data",
          "data": {
            "text/plain": [
              "<Figure size 640x480 with 1 Axes>"
            ],
            "image/png": "[encoded data removed]"
          },
          "metadata": {}
        }
      ]
    },
    {
      "cell_type": "code",
      "source": [
        "corpus=create_corpus(1)\n",
        "\n",
        "dic=defaultdict(int)\n",
        "for word in corpus:\n",
        "    if word in stop:\n",
        "        dic[word]+=1\n",
        "\n",
        "top=sorted(dic.items(), key=lambda x:x[1],reverse=True)[:10]\n",
        "\n",
        "\n",
        "\n",
        "x,y=zip(*top)\n",
        "plt.title('Stop-Word')\n",
        "plt.bar(x,y)"
      ],
      "metadata": {
        "colab": {
          "base_uri": "https://localhost:8080/",
          "height": 469
        },
        "id": "b5hLHU-lzU3H",
        "outputId": "cbe58ece-19f3-4d46-d5bb-f18e52950b2f"
      },
      "execution_count": 26,
      "outputs": [
        {
          "output_type": "execute_result",
          "data": {
            "text/plain": [
              "<BarContainer object of 10 artists>"
            ]
          },
          "metadata": {},
          "execution_count": 26
        },
        {
          "output_type": "display_data",
          "data": {
            "text/plain": [
              "<Figure size 640x480 with 1 Axes>"
            ],
            "image/png": "[encoded data removed]"
          },
          "metadata": {}
        }
      ]
    },
    {
      "cell_type": "code",
      "source": [
        "plt.figure(figsize=(10,5))\n",
        "corpus=create_corpus(1)\n",
        "dic=defaultdict(int)\n",
        "import string\n",
        "special = string.punctuation\n",
        "for i in (corpus):\n",
        "    if i in special:\n",
        "        dic[i]+=1\n",
        "x,y=zip(*dic.items())\n",
        "plt.title('Special Characters')\n",
        "plt.bar(x,y)\n",
        "plt.show()"
      ],
      "metadata": {
        "colab": {
          "base_uri": "https://localhost:8080/",
          "height": 468
        },
        "id": "djR0hi2NzskM",
        "outputId": "a5db8828-1c89-4715-db6f-16bac81787e0"
      },
      "execution_count": 27,
      "outputs": [
        {
          "output_type": "display_data",
          "data": {
            "text/plain": [
              "<Figure size 1000x500 with 1 Axes>"
            ],
            "image/png": "[encoded data removed]"
          },
          "metadata": {}
        }
      ]
    },
    {
      "cell_type": "code",
      "source": [
        "plt.figure(figsize=(10,5))\n",
        "corpus=create_corpus(0)\n",
        "\n",
        "dic=defaultdict(int)\n",
        "import string\n",
        "special = string.punctuation\n",
        "for i in (corpus):\n",
        "    if i in special:\n",
        "        dic[i]+=1\n",
        "\n",
        "x,y=zip(*dic.items())\n",
        "plt.bar(x,y,color='green')\n",
        "plt.title('Special Characters')\n",
        "plt.show()"
      ],
      "metadata": {
        "colab": {
          "base_uri": "https://localhost:8080/",
          "height": 468
        },
        "id": "aX2JnAt4zsfg",
        "outputId": "5553a184-2c5b-45f9-cacf-8092a2dea181"
      },
      "execution_count": 28,
      "outputs": [
        {
          "output_type": "display_data",
          "data": {
            "text/plain": [
              "<Figure size 1000x500 with 1 Axes>"
            ],
            "image/png": "[encoded data removed]"
          },
          "metadata": {}
        }
      ]
    },
    {
      "cell_type": "markdown",
      "source": [
        "## **Data Cleaning**"
      ],
      "metadata": {
        "id": "wSar0KOBI_3c"
      }
    },
    {
      "cell_type": "code",
      "source": [
        "df=pd.concat([train,test])\n",
        "df.head()"
      ],
      "metadata": {
        "colab": {
          "base_uri": "https://localhost:8080/",
          "height": 206
        },
        "id": "RvUMQKJ0zsR8",
        "outputId": "9f51057c-3747-4ba1-ef9b-1d4a2be180dd"
      },
      "execution_count": 29,
      "outputs": [
        {
          "output_type": "execute_result",
          "data": {
            "text/plain": [
              "   id keyword location                                               text  \\\n",
              "0   1     NaN      NaN  Our Deeds are the Reason of this #earthquake M...   \n",
              "1   4     NaN      NaN             Forest fire near La Ronge Sask. Canada   \n",
              "2   5     NaN      NaN  All residents asked to 'shelter in place' are ...   \n",
              "3   6     NaN      NaN  13,000 people receive #wildfires evacuation or...   \n",
              "4   7     NaN      NaN  Just got sent this photo from Ruby #Alaska as ...   \n",
              "\n",
              "   target  \n",
              "0     1.0  \n",
              "1     1.0  \n",
              "2     1.0  \n",
              "3     1.0  \n",
              "4     1.0  "
            ],
            "text/html": [
              "\n",
              "  <div id=\"df-57ab607d-070d-4e4e-9637-62f50a54f542\" class=\"colab-df-container\">\n",
              "    <div>\n",
              "<style scoped>\n",
              "    .dataframe tbody tr th:only-of-type {\n",
              "        vertical-align: middle;\n",
              "    }\n",
              "\n",
              "    .dataframe tbody tr th {\n",
              "        vertical-align: top;\n",
              "    }\n",
              "\n",
              "    .dataframe thead th {\n",
              "        text-align: right;\n",
              "    }\n",
              "</style>\n",
              "<table border=\"1\" class=\"dataframe\">\n",
              "  <thead>\n",
              "    <tr style=\"text-align: right;\">\n",
              "      <th></th>\n",
              "      <th>id</th>\n",
              "      <th>keyword</th>\n",
              "      <th>location</th>\n",
              "      <th>text</th>\n",
              "      <th>target</th>\n",
              "    </tr>\n",
              "  </thead>\n",
              "  <tbody>\n",
              "    <tr>\n",
              "      <th>0</th>\n",
              "      <td>1</td>\n",
              "      <td>NaN</td>\n",
              "      <td>NaN</td>\n",
              "      <td>Our Deeds are the Reason of this #earthquake M...</td>\n",
              "      <td>1.0</td>\n",
              "    </tr>\n",
              "    <tr>\n",
              "      <th>1</th>\n",
              "      <td>4</td>\n",
              "      <td>NaN</td>\n",
              "      <td>NaN</td>\n",
              "      <td>Forest fire near La Ronge Sask. Canada</td>\n",
              "      <td>1.0</td>\n",
              "    </tr>\n",
              "    <tr>\n",
              "      <th>2</th>\n",
              "      <td>5</td>\n",
              "      <td>NaN</td>\n",
              "      <td>NaN</td>\n",
              "      <td>All residents asked to 'shelter in place' are ...</td>\n",
              "      <td>1.0</td>\n",
              "    </tr>\n",
              "    <tr>\n",
              "      <th>3</th>\n",
              "      <td>6</td>\n",
              "      <td>NaN</td>\n",
              "      <td>NaN</td>\n",
              "      <td>13,000 people receive #wildfires evacuation or...</td>\n",
              "      <td>1.0</td>\n",
              "    </tr>\n",
              "    <tr>\n",
              "      <th>4</th>\n",
              "      <td>7</td>\n",
              "      <td>NaN</td>\n",
              "      <td>NaN</td>\n",
              "      <td>Just got sent this photo from Ruby #Alaska as ...</td>\n",
              "      <td>1.0</td>\n",
              "    </tr>\n",
              "  </tbody>\n",
              "</table>\n",
              "</div>\n",
              "    <div class=\"colab-df-buttons\">\n",
              "\n",
              "  <div class=\"colab-df-container\">\n",
              "    <button class=\"colab-df-convert\" onclick=\"convertToInteractive('df-57ab607d-070d-4e4e-9637-62f50a54f542')\"\n",
              "            title=\"Convert this dataframe to an interactive table.\"\n",
              "            style=\"display:none;\">\n",
              "\n",
              "  <svg xmlns=\"http://www.w3.org/2000/svg\" height=\"24px\" viewBox=\"0 -960 960 960\">\n",
              "    <path d=\"M120-120v-720h720v720H120Zm60-500h600v-160H180v160Zm220 220h160v-160H400v160Zm0 220h160v-160H400v160ZM180-400h160v-160H180v160Zm440 0h160v-160H620v160ZM180-180h160v-160H180v160Zm440 0h160v-160H620v160Z\"/>\n",
              "  </svg>\n",
              "    </button>\n",
              "\n",
              "  <style>\n",
              "    .colab-df-container {\n",
              "      display:flex;\n",
              "      gap: 12px;\n",
              "    }\n",
              "\n",
              "    .colab-df-convert {\n",
              "      background-color: #E8F0FE;\n",
              "      border: none;\n",
              "      border-radius: 50%;\n",
              "      cursor: pointer;\n",
              "      display: none;\n",
              "      fill: #1967D2;\n",
              "      height: 32px;\n",
              "      padding: 0 0 0 0;\n",
              "      width: 32px;\n",
              "    }\n",
              "\n",
              "    .colab-df-convert:hover {\n",
              "      background-color: #E2EBFA;\n",
              "      box-shadow: 0px 1px 2px rgba(60, 64, 67, 0.3), 0px 1px 3px 1px rgba(60, 64, 67, 0.15);\n",
              "      fill: #174EA6;\n",
              "    }\n",
              "\n",
              "    .colab-df-buttons div {\n",
              "      margin-bottom: 4px;\n",
              "    }\n",
              "\n",
              "    [theme=dark] .colab-df-convert {\n",
              "      background-color: #3B4455;\n",
              "      fill: #D2E3FC;\n",
              "    }\n",
              "\n",
              "    [theme=dark] .colab-df-convert:hover {\n",
              "      background-color: #434B5C;\n",
              "      box-shadow: 0px 1px 3px 1px rgba(0, 0, 0, 0.15);\n",
              "      filter: drop-shadow(0px 1px 2px rgba(0, 0, 0, 0.3));\n",
              "      fill: #FFFFFF;\n",
              "    }\n",
              "  </style>\n",
              "\n",
              "    <script>\n",
              "      const buttonEl =\n",
              "        document.querySelector('#df-57ab607d-070d-4e4e-9637-62f50a54f542 button.colab-df-convert');\n",
              "      buttonEl.style.display =\n",
              "        google.colab.kernel.accessAllowed ? 'block' : 'none';\n",
              "\n",
              "      async function convertToInteractive(key) {\n",
              "        const element = document.querySelector('#df-57ab607d-070d-4e4e-9637-62f50a54f542');\n",
              "        const dataTable =\n",
              "          await google.colab.kernel.invokeFunction('convertToInteractive',\n",
              "                                                    [key], {});\n",
              "        if (!dataTable) return;\n",
              "\n",
              "        const docLinkHtml = 'Like what you see? Visit the ' +\n",
              "          '<a target=\"_blank\" href=https://colab.research.google.com/notebooks/data_table.ipynb>data table notebook</a>'\n",
              "          + ' to learn more about interactive tables.';\n",
              "        element.innerHTML = '';\n",
              "        dataTable['output_type'] = 'display_data';\n",
              "        await google.colab.output.renderOutput(dataTable, element);\n",
              "        const docLink = document.createElement('div');\n",
              "        docLink.innerHTML = docLinkHtml;\n",
              "        element.appendChild(docLink);\n",
              "      }\n",
              "    </script>\n",
              "  </div>\n",
              "\n",
              "\n",
              "<div id=\"df-cbaaa3bc-87f9-45d8-872a-caeeba8717ca\">\n",
              "  <button class=\"colab-df-quickchart\" onclick=\"quickchart('df-cbaaa3bc-87f9-45d8-872a-caeeba8717ca')\"\n",
              "            title=\"Suggest charts\"\n",
              "            style=\"display:none;\">\n",
              "\n",
              "<svg xmlns=\"http://www.w3.org/2000/svg\" height=\"24px\"viewBox=\"0 0 24 24\"\n",
              "     width=\"24px\">\n",
              "    <g>\n",
              "        <path d=\"M19 3H5c-1.1 0-2 .9-2 2v14c0 1.1.9 2 2 2h14c1.1 0 2-.9 2-2V5c0-1.1-.9-2-2-2zM9 17H7v-7h2v7zm4 0h-2V7h2v10zm4 0h-2v-4h2v4z\"/>\n",
              "    </g>\n",
              "</svg>\n",
              "  </button>\n",
              "\n",
              "<style>\n",
              "  .colab-df-quickchart {\n",
              "      --bg-color: #E8F0FE;\n",
              "      --fill-color: #1967D2;\n",
              "      --hover-bg-color: #E2EBFA;\n",
              "      --hover-fill-color: #174EA6;\n",
              "      --disabled-fill-color: #AAA;\n",
              "      --disabled-bg-color: #DDD;\n",
              "  }\n",
              "\n",
              "  [theme=dark] .colab-df-quickchart {\n",
              "      --bg-color: #3B4455;\n",
              "      --fill-color: #D2E3FC;\n",
              "      --hover-bg-color: #434B5C;\n",
              "      --hover-fill-color: #FFFFFF;\n",
              "      --disabled-bg-color: #3B4455;\n",
              "      --disabled-fill-color: #666;\n",
              "  }\n",
              "\n",
              "  .colab-df-quickchart {\n",
              "    background-color: var(--bg-color);\n",
              "    border: none;\n",
              "    border-radius: 50%;\n",
              "    cursor: pointer;\n",
              "    display: none;\n",
              "    fill: var(--fill-color);\n",
              "    height: 32px;\n",
              "    padding: 0;\n",
              "    width: 32px;\n",
              "  }\n",
              "\n",
              "  .colab-df-quickchart:hover {\n",
              "    background-color: var(--hover-bg-color);\n",
              "    box-shadow: 0 1px 2px rgba(60, 64, 67, 0.3), 0 1px 3px 1px rgba(60, 64, 67, 0.15);\n",
              "    fill: var(--button-hover-fill-color);\n",
              "  }\n",
              "\n",
              "  .colab-df-quickchart-complete:disabled,\n",
              "  .colab-df-quickchart-complete:disabled:hover {\n",
              "    background-color: var(--disabled-bg-color);\n",
              "    fill: var(--disabled-fill-color);\n",
              "    box-shadow: none;\n",
              "  }\n",
              "\n",
              "  .colab-df-spinner {\n",
              "    border: 2px solid var(--fill-color);\n",
              "    border-color: transparent;\n",
              "    border-bottom-color: var(--fill-color);\n",
              "    animation:\n",
              "      spin 1s steps(1) infinite;\n",
              "  }\n",
              "\n",
              "  @keyframes spin {\n",
              "    0% {\n",
              "      border-color: transparent;\n",
              "      border-bottom-color: var(--fill-color);\n",
              "      border-left-color: var(--fill-color);\n",
              "    }\n",
              "    20% {\n",
              "      border-color: transparent;\n",
              "      border-left-color: var(--fill-color);\n",
              "      border-top-color: var(--fill-color);\n",
              "    }\n",
              "    30% {\n",
              "      border-color: transparent;\n",
              "      border-left-color: var(--fill-color);\n",
              "      border-top-color: var(--fill-color);\n",
              "      border-right-color: var(--fill-color);\n",
              "    }\n",
              "    40% {\n",
              "      border-color: transparent;\n",
              "      border-right-color: var(--fill-color);\n",
              "      border-top-color: var(--fill-color);\n",
              "    }\n",
              "    60% {\n",
              "      border-color: transparent;\n",
              "      border-right-color: var(--fill-color);\n",
              "    }\n",
              "    80% {\n",
              "      border-color: transparent;\n",
              "      border-right-color: var(--fill-color);\n",
              "      border-bottom-color: var(--fill-color);\n",
              "    }\n",
              "    90% {\n",
              "      border-color: transparent;\n",
              "      border-bottom-color: var(--fill-color);\n",
              "    }\n",
              "  }\n",
              "</style>\n",
              "\n",
              "  <script>\n",
              "    async function quickchart(key) {\n",
              "      const quickchartButtonEl =\n",
              "        document.querySelector('#' + key + ' button');\n",
              "      quickchartButtonEl.disabled = true;  // To prevent multiple clicks.\n",
              "      quickchartButtonEl.classList.add('colab-df-spinner');\n",
              "      try {\n",
              "        const charts = await google.colab.kernel.invokeFunction(\n",
              "            'suggestCharts', [key], {});\n",
              "      } catch (error) {\n",
              "        console.error('Error during call to suggestCharts:', error);\n",
              "      }\n",
              "      quickchartButtonEl.classList.remove('colab-df-spinner');\n",
              "      quickchartButtonEl.classList.add('colab-df-quickchart-complete');\n",
              "    }\n",
              "    (() => {\n",
              "      let quickchartButtonEl =\n",
              "        document.querySelector('#df-cbaaa3bc-87f9-45d8-872a-caeeba8717ca button');\n",
              "      quickchartButtonEl.style.display =\n",
              "        google.colab.kernel.accessAllowed ? 'block' : 'none';\n",
              "    })();\n",
              "  </script>\n",
              "</div>\n",
              "\n",
              "    </div>\n",
              "  </div>\n"
            ],
            "application/vnd.google.colaboratory.intrinsic+json": {
              "type": "dataframe",
              "variable_name": "df",
              "summary": "{\n  \"name\": \"df\",\n  \"rows\": 10876,\n  \"fields\": [\n    {\n      \"column\": \"id\",\n      \"properties\": {\n        \"dtype\": \"number\",\n        \"std\": 3139,\n        \"min\": 0,\n        \"max\": 10875,\n        \"num_unique_values\": 10876,\n        \"samples\": [\n          8687,\n          2039,\n          4192\n        ],\n        \"semantic_type\": \"\",\n        \"description\": \"\"\n      }\n    },\n    {\n      \"column\": \"keyword\",\n      \"properties\": {\n        \"dtype\": \"category\",\n        \"num_unique_values\": 221,\n        \"samples\": [\n          \"injury\",\n          \"nuclear%20reactor\",\n          \"engulfed\"\n        ],\n        \"semantic_type\": \"\",\n        \"description\": \"\"\n      }\n    },\n    {\n      \"column\": \"location\",\n      \"properties\": {\n        \"dtype\": \"category\",\n        \"num_unique_values\": 4521,\n        \"samples\": [\n          \"Valparaiso \",\n          \" Somewhere.\",\n          \"107-18 79TH STREET\"\n        ],\n        \"semantic_type\": \"\",\n        \"description\": \"\"\n      }\n    },\n    {\n      \"column\": \"text\",\n      \"properties\": {\n        \"dtype\": \"string\",\n        \"num_unique_values\": 10678,\n        \"samples\": [\n          \"the fires of hell for Julie #Extant writers....she better go down in flames when this is all over...#Extant\",\n          \"@DArchambau THX for your great encouragement and for RT of NEW VIDEO http://t.co/cybKsXHF7d The Coming Apocalyptic US Earthquake &amp; Tsunami\",\n          \"my brother said he has a crush on a girl named Danielle ???????? OH GOD NO\"\n        ],\n        \"semantic_type\": \"\",\n        \"description\": \"\"\n      }\n    },\n    {\n      \"column\": \"target\",\n      \"properties\": {\n        \"dtype\": \"number\",\n        \"std\": 0.4950600449341301,\n        \"min\": 0.0,\n        \"max\": 1.0,\n        \"num_unique_values\": 2,\n        \"samples\": [\n          0.0,\n          1.0\n        ],\n        \"semantic_type\": \"\",\n        \"description\": \"\"\n      }\n    }\n  ]\n}"
            }
          },
          "metadata": {},
          "execution_count": 29
        }
      ]
    },
    {
      "cell_type": "code",
      "source": [
        "# Remove URL\n",
        "def remove_URL(text):\n",
        "    url = re.compile(r'https?://\\S+|www\\.\\S+')\n",
        "    return url.sub(r'',text)\n",
        "\n",
        "df['text']=df['text'].apply(lambda x: remove_URL(x))\n"
      ],
      "metadata": {
        "id": "k868jRuZzsN0"
      },
      "execution_count": 30,
      "outputs": []
    },
    {
      "cell_type": "code",
      "source": [
        "# Remove html\n",
        "def remove_html(text):\n",
        "    html=re.compile(r'<.*?>')\n",
        "    return html.sub(r'',text)\n",
        "\n",
        "\n",
        "df['text']=df['text'].apply(lambda x: remove_html(x))"
      ],
      "metadata": {
        "id": "56T5z4I0Lpj3"
      },
      "execution_count": 31,
      "outputs": []
    },
    {
      "cell_type": "code",
      "source": [
        "# Remove emoji\n",
        "def remove_emoji(text):\n",
        "    emoji_pattern = re.compile(\"[\"\n",
        "                           u\"\\U0001F600-\\U0001F64F\"  # emoticons\n",
        "                           u\"\\U0001F300-\\U0001F5FF\"  # symbols & pictographs\n",
        "                           u\"\\U0001F680-\\U0001F6FF\"  # transport & map symbols\n",
        "                           u\"\\U0001F1E0-\\U0001F1FF\"  # flags (iOS)\n",
        "                           u\"\\U00002702-\\U000027B0\"\n",
        "                           u\"\\U000024C2-\\U0001F251\"\n",
        "                           \"]+\", flags=re.UNICODE)\n",
        "    return emoji_pattern.sub(r'', text)\n",
        "\n",
        "\n",
        "\n",
        "df['text']=df['text'].apply(lambda x: remove_emoji(x))"
      ],
      "metadata": {
        "id": "k79p3I8ZQaaq"
      },
      "execution_count": 32,
      "outputs": []
    },
    {
      "cell_type": "code",
      "source": [
        "# Remove punctuations\n",
        "def remove_punct(text):\n",
        "    table=str.maketrans('','',string.punctuation)\n",
        "    return text.translate(table)\n",
        "\n",
        "df['text']=df['text'].apply(lambda x: remove_punct(x))"
      ],
      "metadata": {
        "id": "C8yJa7WbRyTG"
      },
      "execution_count": 33,
      "outputs": []
    },
    {
      "cell_type": "markdown",
      "source": [
        "## **GloVe for Vectorization**"
      ],
      "metadata": {
        "id": "nSEOOS8-Tu_b"
      }
    },
    {
      "cell_type": "code",
      "source": [
        "!wget http://nlp.stanford.edu/data/glove.6B.zip\n",
        "!unzip glove.6B.zip"
      ],
      "metadata": {
        "colab": {
          "base_uri": "https://localhost:8080/"
        },
        "id": "0e6r_UoHVr-a",
        "outputId": "8c73dbcc-4a5b-456e-fd76-0949b0b53da6"
      },
      "execution_count": 34,
      "outputs": [
        {
          "output_type": "stream",
          "name": "stdout",
          "text": [
            "--2024-09-21 22:26:13--  http://nlp.stanford.edu/data/glove.6B.zip\n",
            "Resolving nlp.stanford.edu (nlp.stanford.edu)... 171.64.67.140\n",
            "Connecting to nlp.stanford.edu (nlp.stanford.edu)|171.64.67.140|:80... connected.\n",
            "HTTP request sent, awaiting response... 302 Found\n",
            "Location: https://nlp.stanford.edu/data/glove.6B.zip [following]\n",
            "--2024-09-21 22:26:13--  https://nlp.stanford.edu/data/glove.6B.zip\n",
            "Connecting to nlp.stanford.edu (nlp.stanford.edu)|171.64.67.140|:443... connected.\n",
            "HTTP request sent, awaiting response... 301 Moved Permanently\n",
            "Location: https://downloads.cs.stanford.edu/nlp/data/glove.6B.zip [following]\n",
            "--2024-09-21 22:26:14--  https://downloads.cs.stanford.edu/nlp/data/glove.6B.zip\n",
            "Resolving downloads.cs.stanford.edu (downloads.cs.stanford.edu)... 171.64.64.22\n",
            "Connecting to downloads.cs.stanford.edu (downloads.cs.stanford.edu)|171.64.64.22|:443... connected.\n",
            "HTTP request sent, awaiting response... 200 OK\n",
            "Length: 862182613 (822M) [application/zip]\n",
            "Saving to: ‘glove.6B.zip’\n",
            "\n",
            "glove.6B.zip        100%[===================>] 822.24M  5.35MB/s    in 2m 40s  \n",
            "\n",
            "2024-09-21 22:28:54 (5.15 MB/s) - ‘glove.6B.zip’ saved [862182613/862182613]\n",
            "\n",
            "Archive:  glove.6B.zip\n",
            "  inflating: glove.6B.50d.txt        \n",
            "  inflating: glove.6B.100d.txt       \n",
            "  inflating: glove.6B.200d.txt       \n",
            "  inflating: glove.6B.300d.txt       \n"
          ]
        }
      ]
    },
    {
      "cell_type": "code",
      "source": [
        "from tqdm import tqdm\n",
        "def create_corpus(df):\n",
        "    corpus=[]\n",
        "    for tweet in tqdm(df['text']):\n",
        "        words=[word.lower() for word in word_tokenize(tweet) if((word.isalpha()==1) & (word not in stop))]\n",
        "        corpus.append(words)\n",
        "    return corpus\n",
        "\n",
        "corpus=create_corpus(df)"
      ],
      "metadata": {
        "colab": {
          "base_uri": "https://localhost:8080/"
        },
        "id": "MR5pT1SVRdoW",
        "outputId": "876d4874-0e4a-41e3-fbc7-bd56cfadddd6"
      },
      "execution_count": 35,
      "outputs": [
        {
          "output_type": "stream",
          "name": "stderr",
          "text": [
            "100%|██████████| 10876/10876 [00:02<00:00, 4120.12it/s]\n"
          ]
        }
      ]
    },
    {
      "cell_type": "code",
      "source": [
        "embedding_dict={}\n",
        "with open('glove.6B.100d.txt', 'r') as f:\n",
        "    for line in f:\n",
        "        values=line.split()\n",
        "        word=values[0]\n",
        "        vectors=np.asarray(values[1:],'float32')\n",
        "        embedding_dict[word]=vectors\n",
        "f.close()"
      ],
      "metadata": {
        "id": "QZ_6_UTITqzv"
      },
      "execution_count": 36,
      "outputs": []
    },
    {
      "cell_type": "code",
      "source": [
        "MAX_LEN=50\n",
        "tokenizer_obj=Tokenizer()\n",
        "tokenizer_obj.fit_on_texts(corpus)\n",
        "sequences=tokenizer_obj.texts_to_sequences(corpus)\n",
        "\n",
        "tweet_pad=pad_sequences(sequences,maxlen=MAX_LEN,truncating='post',padding='post')"
      ],
      "metadata": {
        "id": "RwgIImYFXQN1"
      },
      "execution_count": 37,
      "outputs": []
    },
    {
      "cell_type": "code",
      "source": [
        "# Number of unique words\n",
        "word_index=tokenizer_obj.word_index\n",
        "print('Number of unique words:',len(word_index))"
      ],
      "metadata": {
        "colab": {
          "base_uri": "https://localhost:8080/"
        },
        "id": "GSnUH06jXuTu",
        "outputId": "0254e016-3b54-4af9-e6fc-21a102b3133f"
      },
      "execution_count": 38,
      "outputs": [
        {
          "output_type": "stream",
          "name": "stdout",
          "text": [
            "Number of unique words: 20342\n"
          ]
        }
      ]
    },
    {
      "cell_type": "code",
      "source": [
        "num_words=len(word_index)+1\n",
        "embedding_matrix=np.zeros((num_words,100))\n",
        "\n",
        "for word,i in tqdm(word_index.items()):\n",
        "    if i > num_words:\n",
        "        continue\n",
        "\n",
        "    emb_vec=embedding_dict.get(word)\n",
        "    if emb_vec is not None:\n",
        "        embedding_matrix[i]=emb_vec"
      ],
      "metadata": {
        "colab": {
          "base_uri": "https://localhost:8080/"
        },
        "id": "F4E83-32X--R",
        "outputId": "fdf2ee6d-95b9-4bb1-d2e0-010247691629"
      },
      "execution_count": 39,
      "outputs": [
        {
          "output_type": "stream",
          "name": "stderr",
          "text": [
            "100%|██████████| 20342/20342 [00:00<00:00, 357122.66it/s]\n"
          ]
        }
      ]
    },
    {
      "cell_type": "code",
      "source": [
        "num_words=len(word_index)+1\n",
        "embedding_matrix=np.zeros((num_words,100))\n",
        "\n",
        "for word,i in tqdm(word_index.items()):\n",
        "    if i > num_words:\n",
        "        continue\n",
        "\n",
        "    emb_vec=embedding_dict.get(word)\n",
        "    if emb_vec is not None:\n",
        "        embedding_matrix[i]=emb_vec"
      ],
      "metadata": {
        "colab": {
          "base_uri": "https://localhost:8080/"
        },
        "id": "jBt2uzMKcJ7H",
        "outputId": "70b6e810-0476-45ae-ffda-1ac78f8f6cea"
      },
      "execution_count": 40,
      "outputs": [
        {
          "output_type": "stream",
          "name": "stderr",
          "text": [
            "100%|██████████| 20342/20342 [00:00<00:00, 351508.20it/s]\n"
          ]
        }
      ]
    },
    {
      "cell_type": "markdown",
      "source": [
        "## **Baseline Model**"
      ],
      "metadata": {
        "id": "UbOXCVUrY1h5"
      }
    },
    {
      "cell_type": "code",
      "source": [
        "model=Sequential()\n",
        "embedding = Embedding(num_words, 100, embeddings_initializer=Constant(embedding_matrix),\n",
        "                      input_length=MAX_LEN, trainable=False)\n",
        "model.add(embedding)\n",
        "model.add(SpatialDropout1D(0.2))\n",
        "model.add(LSTM(64, dropout=0.2, recurrent_dropout=0.2))\n",
        "model.add(Dense(1, activation='sigmoid'))\n",
        "optimizer = Adam(learning_rate=1e-5)\n",
        "model.compile(loss='binary_crossentropy',optimizer=optimizer,metrics=['accuracy'])"
      ],
      "metadata": {
        "id": "i0utZq0qYy5E"
      },
      "execution_count": 41,
      "outputs": []
    },
    {
      "cell_type": "code",
      "source": [
        "model.summary()"
      ],
      "metadata": {
        "colab": {
          "base_uri": "https://localhost:8080/",
          "height": 272
        },
        "id": "xoLbzA_bbLwr",
        "outputId": "0013f53b-b330-4a9d-b44a-44210b5ba2ec"
      },
      "execution_count": 42,
      "outputs": [
        {
          "output_type": "display_data",
          "data": {
            "text/plain": [
              "\u001b[1mModel: \"sequential\"\u001b[0m\n"
            ],
            "text/html": [
              "<pre style=\"white-space:pre;overflow-x:auto;line-height:normal;font-family:Menlo,'DejaVu Sans Mono',consolas,'Courier New',monospace\"><span style=\"font-weight: bold\">Model: \"sequential\"</span>\n",
              "</pre>\n"
            ]
          },
          "metadata": {}
        },
        {
          "output_type": "display_data",
          "data": {
            "text/plain": [
              "┏━━━━━━━━━━━━━━━━━━━━━━━━━━━━━━━━━━━━━━┳━━━━━━━━━━━━━━━━━━━━━━━━━━━━━┳━━━━━━━━━━━━━━━━━┓\n",
              "┃\u001b[1m \u001b[0m\u001b[1mLayer (type)                        \u001b[0m\u001b[1m \u001b[0m┃\u001b[1m \u001b[0m\u001b[1mOutput Shape               \u001b[0m\u001b[1m \u001b[0m┃\u001b[1m \u001b[0m\u001b[1m        Param #\u001b[0m\u001b[1m \u001b[0m┃\n",
              "┡━━━━━━━━━━━━━━━━━━━━━━━━━━━━━━━━━━━━━━╇━━━━━━━━━━━━━━━━━━━━━━━━━━━━━╇━━━━━━━━━━━━━━━━━┩\n",
              "│ embedding (\u001b[38;5;33mEmbedding\u001b[0m)                │ ?                           │     \u001b[38;5;34m0\u001b[0m (unbuilt) │\n",
              "├──────────────────────────────────────┼─────────────────────────────┼─────────────────┤\n",
              "│ spatial_dropout1d (\u001b[38;5;33mSpatialDropout1D\u001b[0m) │ ?                           │     \u001b[38;5;34m0\u001b[0m (unbuilt) │\n",
              "├──────────────────────────────────────┼─────────────────────────────┼─────────────────┤\n",
              "│ lstm (\u001b[38;5;33mLSTM\u001b[0m)                          │ ?                           │     \u001b[38;5;34m0\u001b[0m (unbuilt) │\n",
              "├──────────────────────────────────────┼─────────────────────────────┼─────────────────┤\n",
              "│ dense (\u001b[38;5;33mDense\u001b[0m)                        │ ?                           │     \u001b[38;5;34m0\u001b[0m (unbuilt) │\n",
              "└──────────────────────────────────────┴─────────────────────────────┴─────────────────┘\n"
            ],
            "text/html": [
              "<pre style=\"white-space:pre;overflow-x:auto;line-height:normal;font-family:Menlo,'DejaVu Sans Mono',consolas,'Courier New',monospace\">┏━━━━━━━━━━━━━━━━━━━━━━━━━━━━━━━━━━━━━━┳━━━━━━━━━━━━━━━━━━━━━━━━━━━━━┳━━━━━━━━━━━━━━━━━┓\n",
              "┃<span style=\"font-weight: bold\"> Layer (type)                         </span>┃<span style=\"font-weight: bold\"> Output Shape                </span>┃<span style=\"font-weight: bold\">         Param # </span>┃\n",
              "┡━━━━━━━━━━━━━━━━━━━━━━━━━━━━━━━━━━━━━━╇━━━━━━━━━━━━━━━━━━━━━━━━━━━━━╇━━━━━━━━━━━━━━━━━┩\n",
              "│ embedding (<span style=\"color: #0087ff; text-decoration-color: #0087ff\">Embedding</span>)                │ ?                           │     <span style=\"color: #00af00; text-decoration-color: #00af00\">0</span> (unbuilt) │\n",
              "├──────────────────────────────────────┼─────────────────────────────┼─────────────────┤\n",
              "│ spatial_dropout1d (<span style=\"color: #0087ff; text-decoration-color: #0087ff\">SpatialDropout1D</span>) │ ?                           │     <span style=\"color: #00af00; text-decoration-color: #00af00\">0</span> (unbuilt) │\n",
              "├──────────────────────────────────────┼─────────────────────────────┼─────────────────┤\n",
              "│ lstm (<span style=\"color: #0087ff; text-decoration-color: #0087ff\">LSTM</span>)                          │ ?                           │     <span style=\"color: #00af00; text-decoration-color: #00af00\">0</span> (unbuilt) │\n",
              "├──────────────────────────────────────┼─────────────────────────────┼─────────────────┤\n",
              "│ dense (<span style=\"color: #0087ff; text-decoration-color: #0087ff\">Dense</span>)                        │ ?                           │     <span style=\"color: #00af00; text-decoration-color: #00af00\">0</span> (unbuilt) │\n",
              "└──────────────────────────────────────┴─────────────────────────────┴─────────────────┘\n",
              "</pre>\n"
            ]
          },
          "metadata": {}
        },
        {
          "output_type": "display_data",
          "data": {
            "text/plain": [
              "\u001b[1m Total params: \u001b[0m\u001b[38;5;34m0\u001b[0m (0.00 B)\n"
            ],
            "text/html": [
              "<pre style=\"white-space:pre;overflow-x:auto;line-height:normal;font-family:Menlo,'DejaVu Sans Mono',consolas,'Courier New',monospace\"><span style=\"font-weight: bold\"> Total params: </span><span style=\"color: #00af00; text-decoration-color: #00af00\">0</span> (0.00 B)\n",
              "</pre>\n"
            ]
          },
          "metadata": {}
        },
        {
          "output_type": "display_data",
          "data": {
            "text/plain": [
              "\u001b[1m Trainable params: \u001b[0m\u001b[38;5;34m0\u001b[0m (0.00 B)\n"
            ],
            "text/html": [
              "<pre style=\"white-space:pre;overflow-x:auto;line-height:normal;font-family:Menlo,'DejaVu Sans Mono',consolas,'Courier New',monospace\"><span style=\"font-weight: bold\"> Trainable params: </span><span style=\"color: #00af00; text-decoration-color: #00af00\">0</span> (0.00 B)\n",
              "</pre>\n"
            ]
          },
          "metadata": {}
        },
        {
          "output_type": "display_data",
          "data": {
            "text/plain": [
              "\u001b[1m Non-trainable params: \u001b[0m\u001b[38;5;34m0\u001b[0m (0.00 B)\n"
            ],
            "text/html": [
              "<pre style=\"white-space:pre;overflow-x:auto;line-height:normal;font-family:Menlo,'DejaVu Sans Mono',consolas,'Courier New',monospace\"><span style=\"font-weight: bold\"> Non-trainable params: </span><span style=\"color: #00af00; text-decoration-color: #00af00\">0</span> (0.00 B)\n",
              "</pre>\n"
            ]
          },
          "metadata": {}
        }
      ]
    },
    {
      "cell_type": "code",
      "source": [
        "df_train=tweet_pad[:train.shape[0]]\n",
        "df_test=tweet_pad[train.shape[0]:]"
      ],
      "metadata": {
        "id": "3fGN6z5sfoNG"
      },
      "execution_count": 43,
      "outputs": []
    },
    {
      "cell_type": "code",
      "source": [
        "X_train,X_test,y_train,y_test=train_test_split(df_train,train['target'].values,test_size=0.15)\n",
        "print('Shape of train',X_train.shape)\n",
        "print(\"Shape of Validation \",X_test.shape)"
      ],
      "metadata": {
        "colab": {
          "base_uri": "https://localhost:8080/"
        },
        "id": "XxWk0goG5VQ7",
        "outputId": "24a01a10-1624-4cb7-9485-1e89927457da"
      },
      "execution_count": 44,
      "outputs": [
        {
          "output_type": "stream",
          "name": "stdout",
          "text": [
            "Shape of train (6471, 50)\n",
            "Shape of Validation  (1142, 50)\n"
          ]
        }
      ]
    },
    {
      "cell_type": "code",
      "source": [
        "history=model.fit(X_train,y_train,batch_size=4,epochs=15,validation_data=(X_test,y_test),verbose=2)"
      ],
      "metadata": {
        "colab": {
          "base_uri": "https://localhost:8080/"
        },
        "id": "DzF0kn1Yf4p2",
        "outputId": "4acb5f88-3385-44ed-dc73-58a624ddd856"
      },
      "execution_count": 46,
      "outputs": [
        {
          "output_type": "stream",
          "name": "stdout",
          "text": [
            "Epoch 1/15\n",
            "1618/1618 - 44s - 27ms/step - accuracy: 0.5647 - loss: 0.6914 - val_accuracy: 0.5954 - val_loss: 0.6872\n",
            "Epoch 2/15\n",
            "1618/1618 - 38s - 23ms/step - accuracy: 0.6358 - loss: 0.6452 - val_accuracy: 0.7539 - val_loss: 0.5469\n",
            "Epoch 3/15\n",
            "1618/1618 - 44s - 27ms/step - accuracy: 0.7194 - loss: 0.5852 - val_accuracy: 0.7566 - val_loss: 0.5253\n",
            "Epoch 4/15\n",
            "1618/1618 - 37s - 23ms/step - accuracy: 0.7251 - loss: 0.5745 - val_accuracy: 0.7671 - val_loss: 0.5165\n",
            "Epoch 5/15\n",
            "1618/1618 - 40s - 25ms/step - accuracy: 0.7370 - loss: 0.5598 - val_accuracy: 0.7715 - val_loss: 0.5094\n",
            "Epoch 6/15\n",
            "1618/1618 - 39s - 24ms/step - accuracy: 0.7450 - loss: 0.5552 - val_accuracy: 0.7706 - val_loss: 0.5062\n",
            "Epoch 7/15\n",
            "1618/1618 - 33s - 20ms/step - accuracy: 0.7438 - loss: 0.5530 - val_accuracy: 0.7723 - val_loss: 0.5018\n",
            "Epoch 8/15\n",
            "1618/1618 - 43s - 26ms/step - accuracy: 0.7510 - loss: 0.5446 - val_accuracy: 0.7723 - val_loss: 0.4981\n",
            "Epoch 9/15\n",
            "1618/1618 - 36s - 22ms/step - accuracy: 0.7484 - loss: 0.5457 - val_accuracy: 0.7732 - val_loss: 0.4954\n",
            "Epoch 10/15\n",
            "1618/1618 - 38s - 23ms/step - accuracy: 0.7531 - loss: 0.5476 - val_accuracy: 0.7837 - val_loss: 0.4918\n",
            "Epoch 11/15\n",
            "1618/1618 - 42s - 26ms/step - accuracy: 0.7617 - loss: 0.5333 - val_accuracy: 0.7820 - val_loss: 0.4894\n",
            "Epoch 12/15\n",
            "1618/1618 - 38s - 23ms/step - accuracy: 0.7585 - loss: 0.5337 - val_accuracy: 0.7846 - val_loss: 0.4872\n",
            "Epoch 13/15\n",
            "1618/1618 - 34s - 21ms/step - accuracy: 0.7555 - loss: 0.5363 - val_accuracy: 0.7820 - val_loss: 0.4879\n",
            "Epoch 14/15\n",
            "1618/1618 - 43s - 27ms/step - accuracy: 0.7617 - loss: 0.5322 - val_accuracy: 0.7828 - val_loss: 0.4855\n",
            "Epoch 15/15\n",
            "1618/1618 - 44s - 27ms/step - accuracy: 0.7563 - loss: 0.5380 - val_accuracy: 0.7837 - val_loss: 0.4831\n"
          ]
        }
      ]
    },
    {
      "cell_type": "markdown",
      "source": [
        "## **Making our submission**"
      ],
      "metadata": {
        "id": "TkK51FMBzbeC"
      }
    },
    {
      "cell_type": "code",
      "source": [
        "url_submission='/content/drive/MyDrive/Natural-language-processing/sample_submission.csv'\n",
        "submission=pd.read_csv(url_submission)\n",
        "submission.head()"
      ],
      "metadata": {
        "colab": {
          "base_uri": "https://localhost:8080/",
          "height": 206
        },
        "id": "gWyoDa-8y0L7",
        "outputId": "f830fa90-4737-4f8a-83c7-978678c488f9"
      },
      "execution_count": 47,
      "outputs": [
        {
          "output_type": "execute_result",
          "data": {
            "text/plain": [
              "   id  target\n",
              "0   0       0\n",
              "1   2       0\n",
              "2   3       0\n",
              "3   9       0\n",
              "4  11       0"
            ],
            "text/html": [
              "\n",
              "  <div id=\"df-8a0e02db-f702-4fd1-bd87-44991dafc081\" class=\"colab-df-container\">\n",
              "    <div>\n",
              "<style scoped>\n",
              "    .dataframe tbody tr th:only-of-type {\n",
              "        vertical-align: middle;\n",
              "    }\n",
              "\n",
              "    .dataframe tbody tr th {\n",
              "        vertical-align: top;\n",
              "    }\n",
              "\n",
              "    .dataframe thead th {\n",
              "        text-align: right;\n",
              "    }\n",
              "</style>\n",
              "<table border=\"1\" class=\"dataframe\">\n",
              "  <thead>\n",
              "    <tr style=\"text-align: right;\">\n",
              "      <th></th>\n",
              "      <th>id</th>\n",
              "      <th>target</th>\n",
              "    </tr>\n",
              "  </thead>\n",
              "  <tbody>\n",
              "    <tr>\n",
              "      <th>0</th>\n",
              "      <td>0</td>\n",
              "      <td>0</td>\n",
              "    </tr>\n",
              "    <tr>\n",
              "      <th>1</th>\n",
              "      <td>2</td>\n",
              "      <td>0</td>\n",
              "    </tr>\n",
              "    <tr>\n",
              "      <th>2</th>\n",
              "      <td>3</td>\n",
              "      <td>0</td>\n",
              "    </tr>\n",
              "    <tr>\n",
              "      <th>3</th>\n",
              "      <td>9</td>\n",
              "      <td>0</td>\n",
              "    </tr>\n",
              "    <tr>\n",
              "      <th>4</th>\n",
              "      <td>11</td>\n",
              "      <td>0</td>\n",
              "    </tr>\n",
              "  </tbody>\n",
              "</table>\n",
              "</div>\n",
              "    <div class=\"colab-df-buttons\">\n",
              "\n",
              "  <div class=\"colab-df-container\">\n",
              "    <button class=\"colab-df-convert\" onclick=\"convertToInteractive('df-8a0e02db-f702-4fd1-bd87-44991dafc081')\"\n",
              "            title=\"Convert this dataframe to an interactive table.\"\n",
              "            style=\"display:none;\">\n",
              "\n",
              "  <svg xmlns=\"http://www.w3.org/2000/svg\" height=\"24px\" viewBox=\"0 -960 960 960\">\n",
              "    <path d=\"M120-120v-720h720v720H120Zm60-500h600v-160H180v160Zm220 220h160v-160H400v160Zm0 220h160v-160H400v160ZM180-400h160v-160H180v160Zm440 0h160v-160H620v160ZM180-180h160v-160H180v160Zm440 0h160v-160H620v160Z\"/>\n",
              "  </svg>\n",
              "    </button>\n",
              "\n",
              "  <style>\n",
              "    .colab-df-container {\n",
              "      display:flex;\n",
              "      gap: 12px;\n",
              "    }\n",
              "\n",
              "    .colab-df-convert {\n",
              "      background-color: #E8F0FE;\n",
              "      border: none;\n",
              "      border-radius: 50%;\n",
              "      cursor: pointer;\n",
              "      display: none;\n",
              "      fill: #1967D2;\n",
              "      height: 32px;\n",
              "      padding: 0 0 0 0;\n",
              "      width: 32px;\n",
              "    }\n",
              "\n",
              "    .colab-df-convert:hover {\n",
              "      background-color: #E2EBFA;\n",
              "      box-shadow: 0px 1px 2px rgba(60, 64, 67, 0.3), 0px 1px 3px 1px rgba(60, 64, 67, 0.15);\n",
              "      fill: #174EA6;\n",
              "    }\n",
              "\n",
              "    .colab-df-buttons div {\n",
              "      margin-bottom: 4px;\n",
              "    }\n",
              "\n",
              "    [theme=dark] .colab-df-convert {\n",
              "      background-color: #3B4455;\n",
              "      fill: #D2E3FC;\n",
              "    }\n",
              "\n",
              "    [theme=dark] .colab-df-convert:hover {\n",
              "      background-color: #434B5C;\n",
              "      box-shadow: 0px 1px 3px 1px rgba(0, 0, 0, 0.15);\n",
              "      filter: drop-shadow(0px 1px 2px rgba(0, 0, 0, 0.3));\n",
              "      fill: #FFFFFF;\n",
              "    }\n",
              "  </style>\n",
              "\n",
              "    <script>\n",
              "      const buttonEl =\n",
              "        document.querySelector('#df-8a0e02db-f702-4fd1-bd87-44991dafc081 button.colab-df-convert');\n",
              "      buttonEl.style.display =\n",
              "        google.colab.kernel.accessAllowed ? 'block' : 'none';\n",
              "\n",
              "      async function convertToInteractive(key) {\n",
              "        const element = document.querySelector('#df-8a0e02db-f702-4fd1-bd87-44991dafc081');\n",
              "        const dataTable =\n",
              "          await google.colab.kernel.invokeFunction('convertToInteractive',\n",
              "                                                    [key], {});\n",
              "        if (!dataTable) return;\n",
              "\n",
              "        const docLinkHtml = 'Like what you see? Visit the ' +\n",
              "          '<a target=\"_blank\" href=https://colab.research.google.com/notebooks/data_table.ipynb>data table notebook</a>'\n",
              "          + ' to learn more about interactive tables.';\n",
              "        element.innerHTML = '';\n",
              "        dataTable['output_type'] = 'display_data';\n",
              "        await google.colab.output.renderOutput(dataTable, element);\n",
              "        const docLink = document.createElement('div');\n",
              "        docLink.innerHTML = docLinkHtml;\n",
              "        element.appendChild(docLink);\n",
              "      }\n",
              "    </script>\n",
              "  </div>\n",
              "\n",
              "\n",
              "<div id=\"df-aae091a3-6b79-4296-a31d-383b4db64dab\">\n",
              "  <button class=\"colab-df-quickchart\" onclick=\"quickchart('df-aae091a3-6b79-4296-a31d-383b4db64dab')\"\n",
              "            title=\"Suggest charts\"\n",
              "            style=\"display:none;\">\n",
              "\n",
              "<svg xmlns=\"http://www.w3.org/2000/svg\" height=\"24px\"viewBox=\"0 0 24 24\"\n",
              "     width=\"24px\">\n",
              "    <g>\n",
              "        <path d=\"M19 3H5c-1.1 0-2 .9-2 2v14c0 1.1.9 2 2 2h14c1.1 0 2-.9 2-2V5c0-1.1-.9-2-2-2zM9 17H7v-7h2v7zm4 0h-2V7h2v10zm4 0h-2v-4h2v4z\"/>\n",
              "    </g>\n",
              "</svg>\n",
              "  </button>\n",
              "\n",
              "<style>\n",
              "  .colab-df-quickchart {\n",
              "      --bg-color: #E8F0FE;\n",
              "      --fill-color: #1967D2;\n",
              "      --hover-bg-color: #E2EBFA;\n",
              "      --hover-fill-color: #174EA6;\n",
              "      --disabled-fill-color: #AAA;\n",
              "      --disabled-bg-color: #DDD;\n",
              "  }\n",
              "\n",
              "  [theme=dark] .colab-df-quickchart {\n",
              "      --bg-color: #3B4455;\n",
              "      --fill-color: #D2E3FC;\n",
              "      --hover-bg-color: #434B5C;\n",
              "      --hover-fill-color: #FFFFFF;\n",
              "      --disabled-bg-color: #3B4455;\n",
              "      --disabled-fill-color: #666;\n",
              "  }\n",
              "\n",
              "  .colab-df-quickchart {\n",
              "    background-color: var(--bg-color);\n",
              "    border: none;\n",
              "    border-radius: 50%;\n",
              "    cursor: pointer;\n",
              "    display: none;\n",
              "    fill: var(--fill-color);\n",
              "    height: 32px;\n",
              "    padding: 0;\n",
              "    width: 32px;\n",
              "  }\n",
              "\n",
              "  .colab-df-quickchart:hover {\n",
              "    background-color: var(--hover-bg-color);\n",
              "    box-shadow: 0 1px 2px rgba(60, 64, 67, 0.3), 0 1px 3px 1px rgba(60, 64, 67, 0.15);\n",
              "    fill: var(--button-hover-fill-color);\n",
              "  }\n",
              "\n",
              "  .colab-df-quickchart-complete:disabled,\n",
              "  .colab-df-quickchart-complete:disabled:hover {\n",
              "    background-color: var(--disabled-bg-color);\n",
              "    fill: var(--disabled-fill-color);\n",
              "    box-shadow: none;\n",
              "  }\n",
              "\n",
              "  .colab-df-spinner {\n",
              "    border: 2px solid var(--fill-color);\n",
              "    border-color: transparent;\n",
              "    border-bottom-color: var(--fill-color);\n",
              "    animation:\n",
              "      spin 1s steps(1) infinite;\n",
              "  }\n",
              "\n",
              "  @keyframes spin {\n",
              "    0% {\n",
              "      border-color: transparent;\n",
              "      border-bottom-color: var(--fill-color);\n",
              "      border-left-color: var(--fill-color);\n",
              "    }\n",
              "    20% {\n",
              "      border-color: transparent;\n",
              "      border-left-color: var(--fill-color);\n",
              "      border-top-color: var(--fill-color);\n",
              "    }\n",
              "    30% {\n",
              "      border-color: transparent;\n",
              "      border-left-color: var(--fill-color);\n",
              "      border-top-color: var(--fill-color);\n",
              "      border-right-color: var(--fill-color);\n",
              "    }\n",
              "    40% {\n",
              "      border-color: transparent;\n",
              "      border-right-color: var(--fill-color);\n",
              "      border-top-color: var(--fill-color);\n",
              "    }\n",
              "    60% {\n",
              "      border-color: transparent;\n",
              "      border-right-color: var(--fill-color);\n",
              "    }\n",
              "    80% {\n",
              "      border-color: transparent;\n",
              "      border-right-color: var(--fill-color);\n",
              "      border-bottom-color: var(--fill-color);\n",
              "    }\n",
              "    90% {\n",
              "      border-color: transparent;\n",
              "      border-bottom-color: var(--fill-color);\n",
              "    }\n",
              "  }\n",
              "</style>\n",
              "\n",
              "  <script>\n",
              "    async function quickchart(key) {\n",
              "      const quickchartButtonEl =\n",
              "        document.querySelector('#' + key + ' button');\n",
              "      quickchartButtonEl.disabled = true;  // To prevent multiple clicks.\n",
              "      quickchartButtonEl.classList.add('colab-df-spinner');\n",
              "      try {\n",
              "        const charts = await google.colab.kernel.invokeFunction(\n",
              "            'suggestCharts', [key], {});\n",
              "      } catch (error) {\n",
              "        console.error('Error during call to suggestCharts:', error);\n",
              "      }\n",
              "      quickchartButtonEl.classList.remove('colab-df-spinner');\n",
              "      quickchartButtonEl.classList.add('colab-df-quickchart-complete');\n",
              "    }\n",
              "    (() => {\n",
              "      let quickchartButtonEl =\n",
              "        document.querySelector('#df-aae091a3-6b79-4296-a31d-383b4db64dab button');\n",
              "      quickchartButtonEl.style.display =\n",
              "        google.colab.kernel.accessAllowed ? 'block' : 'none';\n",
              "    })();\n",
              "  </script>\n",
              "</div>\n",
              "\n",
              "    </div>\n",
              "  </div>\n"
            ],
            "application/vnd.google.colaboratory.intrinsic+json": {
              "type": "dataframe",
              "variable_name": "submission",
              "summary": "{\n  \"name\": \"submission\",\n  \"rows\": 3263,\n  \"fields\": [\n    {\n      \"column\": \"id\",\n      \"properties\": {\n        \"dtype\": \"number\",\n        \"std\": 3146,\n        \"min\": 0,\n        \"max\": 10875,\n        \"num_unique_values\": 3263,\n        \"samples\": [\n          8051,\n          425,\n          1330\n        ],\n        \"semantic_type\": \"\",\n        \"description\": \"\"\n      }\n    },\n    {\n      \"column\": \"target\",\n      \"properties\": {\n        \"dtype\": \"number\",\n        \"std\": 0,\n        \"min\": 0,\n        \"max\": 0,\n        \"num_unique_values\": 1,\n        \"samples\": [\n          0\n        ],\n        \"semantic_type\": \"\",\n        \"description\": \"\"\n      }\n    }\n  ]\n}"
            }
          },
          "metadata": {},
          "execution_count": 47
        }
      ]
    },
    {
      "cell_type": "code",
      "source": [
        "y_pre=model.predict(df_test)\n",
        "y_pre=np.round(y_pre).astype(int).reshape(3263)\n",
        "sub=pd.DataFrame({'id':submission['id'].values.tolist(),'target':y_pre})\n",
        "sub.to_csv('submission.csv',index=False)"
      ],
      "metadata": {
        "colab": {
          "base_uri": "https://localhost:8080/"
        },
        "id": "scbT7UI2y0Cz",
        "outputId": "e87852c0-7849-4619-e581-272ee28df7f9"
      },
      "execution_count": 50,
      "outputs": [
        {
          "output_type": "stream",
          "name": "stdout",
          "text": [
            "\u001b[1m102/102\u001b[0m \u001b[32m━━━━━━━━━━━━━━━━━━━━\u001b[0m\u001b[37m\u001b[0m \u001b[1m4s\u001b[0m 31ms/step\n"
          ]
        }
      ]
    },
    {
      "cell_type": "code",
      "source": [
        "# Resumen final\n",
        "sns.countplot(data=sub,x='target')\n",
        "plt.title('Class of distribution',fontsize=12,weight='bold')\n",
        "plt.show()"
      ],
      "metadata": {
        "colab": {
          "base_uri": "https://localhost:8080/",
          "height": 472
        },
        "id": "G2sGkE5y6PKi",
        "outputId": "a0ca1140-6271-48b7-e01c-bcc787cf5dfa"
      },
      "execution_count": 53,
      "outputs": [
        {
          "output_type": "display_data",
          "data": {
            "text/plain": [
              "<Figure size 640x480 with 1 Axes>"
            ],
            "image/png": "[encoded data removed]"
          },
          "metadata": {}
        }
      ]
    }
  ]
}